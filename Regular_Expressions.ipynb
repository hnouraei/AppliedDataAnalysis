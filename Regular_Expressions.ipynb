{
  "nbformat": 4,
  "nbformat_minor": 0,
  "metadata": {
    "kernelspec": {
      "display_name": "Python 3",
      "language": "python",
      "name": "python3"
    },
    "language_info": {
      "codemirror_mode": {
        "name": "ipython",
        "version": 3
      },
      "file_extension": ".py",
      "mimetype": "text/x-python",
      "name": "python",
      "nbconvert_exporter": "python",
      "pygments_lexer": "ipython3",
      "version": "3.7.7"
    },
    "varInspector": {
      "cols": {
        "lenName": 16,
        "lenType": 16,
        "lenVar": 40
      },
      "kernels_config": {
        "python": {
          "delete_cmd_postfix": "",
          "delete_cmd_prefix": "del ",
          "library": "var_list.py",
          "varRefreshCmd": "print(var_dic_list())"
        },
        "r": {
          "delete_cmd_postfix": ") ",
          "delete_cmd_prefix": "rm(",
          "library": "var_list.r",
          "varRefreshCmd": "cat(var_dic_list()) "
        }
      },
      "types_to_exclude": [
        "module",
        "function",
        "builtin_function_or_method",
        "instance",
        "_Feature"
      ],
      "window_display": false
    },
    "colab": {
      "name": "Regular Expressions.ipynb",
      "provenance": [],
      "toc_visible": true,
      "include_colab_link": true
    }
  },
  "cells": [
    {
      "cell_type": "markdown",
      "metadata": {
        "id": "view-in-github",
        "colab_type": "text"
      },
      "source": [
        "<a href=\"https://colab.research.google.com/github/hnouraei/AppliedDataAnalysis/blob/master/Regular_Expressions.ipynb\" target=\"_parent\"><img src=\"https://colab.research.google.com/assets/colab-badge.svg\" alt=\"Open In Colab\"/></a>"
      ]
    },
    {
      "cell_type": "markdown",
      "metadata": {
        "id": "DmIV82Y3MoEP"
      },
      "source": [
        "# Regular Expressions in Python "
      ]
    },
    {
      "cell_type": "code",
      "metadata": {
        "id": "eys0lN4aMUR3"
      },
      "source": [
        "import pandas as pd \n",
        "import numpy as np \n",
        "import re"
      ],
      "execution_count": null,
      "outputs": []
    },
    {
      "cell_type": "code",
      "metadata": {
        "id": "iG7QfCkbMUR4",
        "outputId": "31b501f2-edca-4369-d94d-675c70efffb4"
      },
      "source": [
        "a='This is\\'nt your cup of tea.'\n",
        "print(a)"
      ],
      "execution_count": null,
      "outputs": [
        {
          "output_type": "stream",
          "text": [
            "This is'nt your cup of tea.\n"
          ],
          "name": "stdout"
        }
      ]
    },
    {
      "cell_type": "code",
      "metadata": {
        "scrolled": true,
        "id": "aG_DzFx1MUR5",
        "outputId": "fe58b45c-2236-4d95-e2d5-e32a976b54d3"
      },
      "source": [
        "a='This is \\n test'\n",
        "print(a)"
      ],
      "execution_count": null,
      "outputs": [
        {
          "output_type": "stream",
          "text": [
            "This is \n",
            " test\n"
          ],
          "name": "stdout"
        }
      ]
    },
    {
      "cell_type": "code",
      "metadata": {
        "id": "XEm7RHUJMUR5",
        "outputId": "be9e0b89-082a-4f32-c22e-c37896fd7b24"
      },
      "source": [
        "# joining method \n",
        "my_list=[\"this\",\"would\",\"be\",\"a\",\"string\"]\n",
        "print(\" \".join(my_list))"
      ],
      "execution_count": null,
      "outputs": [
        {
          "output_type": "stream",
          "text": [
            "this would be a string\n"
          ],
          "name": "stdout"
        }
      ]
    },
    {
      "cell_type": "code",
      "metadata": {
        "id": "KXLRr_HfMUR6",
        "outputId": "7d2cc6bd-844a-4afc-c9bc-5d2504a94235"
      },
      "source": [
        "my_string = \"This string will be split\\nin two\"\n",
        "my_string.split(sep=\"\\n\")"
      ],
      "execution_count": null,
      "outputs": [
        {
          "output_type": "execute_result",
          "data": {
            "text/plain": [
              "['This string will be split', 'in two']"
            ]
          },
          "metadata": {
            "tags": []
          },
          "execution_count": 8
        }
      ]
    },
    {
      "cell_type": "code",
      "metadata": {
        "id": "y6VM7IZcMUR6",
        "outputId": "fa874044-6179-4e9b-e28c-a2d813a60bd3"
      },
      "source": [
        "my_string.splitlines()"
      ],
      "execution_count": null,
      "outputs": [
        {
          "output_type": "execute_result",
          "data": {
            "text/plain": [
              "['This string will be split', 'in two']"
            ]
          },
          "metadata": {
            "tags": []
          },
          "execution_count": 9
        }
      ]
    },
    {
      "cell_type": "code",
      "metadata": {
        "id": "4MgQbCfRMUR6",
        "outputId": "fdbb603b-53a2-4967-bd80-cdfcbb67aa30"
      },
      "source": [
        "df = pd.DataFrame({\n",
        "    'score': ['exceptional$','average', 'good', 'poor', 'average', 'exceptional'],\n",
        "    'student': ['rob', 'maya', 'parthiv', 'tom', 'julian', 'erica'],\n",
        "    'mark':['100 A+',70,75,55,70,99]\n",
        "})\n",
        "df"
      ],
      "execution_count": null,
      "outputs": [
        {
          "output_type": "execute_result",
          "data": {
            "text/html": [
              "<div>\n",
              "<style scoped>\n",
              "    .dataframe tbody tr th:only-of-type {\n",
              "        vertical-align: middle;\n",
              "    }\n",
              "\n",
              "    .dataframe tbody tr th {\n",
              "        vertical-align: top;\n",
              "    }\n",
              "\n",
              "    .dataframe thead th {\n",
              "        text-align: right;\n",
              "    }\n",
              "</style>\n",
              "<table border=\"1\" class=\"dataframe\">\n",
              "  <thead>\n",
              "    <tr style=\"text-align: right;\">\n",
              "      <th></th>\n",
              "      <th>score</th>\n",
              "      <th>student</th>\n",
              "      <th>mark</th>\n",
              "    </tr>\n",
              "  </thead>\n",
              "  <tbody>\n",
              "    <tr>\n",
              "      <th>0</th>\n",
              "      <td>exceptional$</td>\n",
              "      <td>rob</td>\n",
              "      <td>100 A+</td>\n",
              "    </tr>\n",
              "    <tr>\n",
              "      <th>1</th>\n",
              "      <td>average</td>\n",
              "      <td>maya</td>\n",
              "      <td>70</td>\n",
              "    </tr>\n",
              "    <tr>\n",
              "      <th>2</th>\n",
              "      <td>good</td>\n",
              "      <td>parthiv</td>\n",
              "      <td>75</td>\n",
              "    </tr>\n",
              "    <tr>\n",
              "      <th>3</th>\n",
              "      <td>poor</td>\n",
              "      <td>tom</td>\n",
              "      <td>55</td>\n",
              "    </tr>\n",
              "    <tr>\n",
              "      <th>4</th>\n",
              "      <td>average</td>\n",
              "      <td>julian</td>\n",
              "      <td>70</td>\n",
              "    </tr>\n",
              "    <tr>\n",
              "      <th>5</th>\n",
              "      <td>exceptional</td>\n",
              "      <td>erica</td>\n",
              "      <td>99</td>\n",
              "    </tr>\n",
              "  </tbody>\n",
              "</table>\n",
              "</div>"
            ],
            "text/plain": [
              "          score  student    mark\n",
              "0  exceptional$      rob  100 A+\n",
              "1       average     maya      70\n",
              "2          good  parthiv      75\n",
              "3          poor      tom      55\n",
              "4       average   julian      70\n",
              "5   exceptional    erica      99"
            ]
          },
          "metadata": {
            "tags": []
          },
          "execution_count": 40
        }
      ]
    },
    {
      "cell_type": "code",
      "metadata": {
        "id": "Mc2ic5xXMUR7",
        "outputId": "e728a621-87a8-4a7d-868c-c1aabcde11c2"
      },
      "source": [
        "len(df['student'][0])"
      ],
      "execution_count": null,
      "outputs": [
        {
          "output_type": "execute_result",
          "data": {
            "text/plain": [
              "3"
            ]
          },
          "metadata": {
            "tags": []
          },
          "execution_count": 41
        }
      ]
    },
    {
      "cell_type": "code",
      "metadata": {
        "id": "IuLDVmFLMUR7",
        "outputId": "8f58b0a9-7904-4724-8925-9e2770f2c540"
      },
      "source": [
        "type( df['score'][0])"
      ],
      "execution_count": null,
      "outputs": [
        {
          "output_type": "execute_result",
          "data": {
            "text/plain": [
              "str"
            ]
          },
          "metadata": {
            "tags": []
          },
          "execution_count": 42
        }
      ]
    },
    {
      "cell_type": "code",
      "metadata": {
        "id": "cNaihUeEMUR7",
        "outputId": "93193b27-3926-44c9-eb4a-7c2d0531c8e6"
      },
      "source": [
        "df['score'].str.strip(\"$\")"
      ],
      "execution_count": null,
      "outputs": [
        {
          "output_type": "execute_result",
          "data": {
            "text/plain": [
              "0    exceptional\n",
              "1        average\n",
              "2           good\n",
              "3           poor\n",
              "4        average\n",
              "5    exceptional\n",
              "Name: score, dtype: object"
            ]
          },
          "metadata": {
            "tags": []
          },
          "execution_count": 43
        }
      ]
    },
    {
      "cell_type": "code",
      "metadata": {
        "id": "4xufSrNIMUR8",
        "outputId": "6d6d2a25-cc49-45bb-dc9e-3f94e6a7007a"
      },
      "source": [
        "df.dtypes"
      ],
      "execution_count": null,
      "outputs": [
        {
          "output_type": "execute_result",
          "data": {
            "text/plain": [
              "score      object\n",
              "student    object\n",
              "mark       object\n",
              "dtype: object"
            ]
          },
          "metadata": {
            "tags": []
          },
          "execution_count": 44
        }
      ]
    },
    {
      "cell_type": "code",
      "metadata": {
        "id": "xuoO1VIEMUR8"
      },
      "source": [
        "df['mark'] = df['mark'].astype(str)"
      ],
      "execution_count": null,
      "outputs": []
    },
    {
      "cell_type": "code",
      "metadata": {
        "id": "g2ZZ2uN0MUR8",
        "outputId": "2766a06b-2cc3-4810-e02d-94172aca0950"
      },
      "source": [
        "df.dtypes"
      ],
      "execution_count": null,
      "outputs": [
        {
          "output_type": "execute_result",
          "data": {
            "text/plain": [
              "score      object\n",
              "student    object\n",
              "mark       object\n",
              "dtype: object"
            ]
          },
          "metadata": {
            "tags": []
          },
          "execution_count": 46
        }
      ]
    },
    {
      "cell_type": "code",
      "metadata": {
        "id": "yyOGB54zMUR8",
        "outputId": "1a8ea306-0afe-484d-8107-2a378b04bf17"
      },
      "source": [
        "df['mark'].str.strip(' A+')"
      ],
      "execution_count": null,
      "outputs": [
        {
          "output_type": "execute_result",
          "data": {
            "text/plain": [
              "0    100\n",
              "1     70\n",
              "2     75\n",
              "3     55\n",
              "4     70\n",
              "5     99\n",
              "Name: mark, dtype: object"
            ]
          },
          "metadata": {
            "tags": []
          },
          "execution_count": 47
        }
      ]
    },
    {
      "cell_type": "code",
      "metadata": {
        "id": "T96dbYrGMUR9",
        "outputId": "db57fdc8-d231-4045-cd51-338e64a15302"
      },
      "source": [
        "df['mark'][0].str.strip(\" A+\")"
      ],
      "execution_count": null,
      "outputs": [
        {
          "output_type": "error",
          "ename": "AttributeError",
          "evalue": "'str' object has no attribute 'str'",
          "traceback": [
            "\u001b[1;31m---------------------------------------------------------------------------\u001b[0m",
            "\u001b[1;31mAttributeError\u001b[0m                            Traceback (most recent call last)",
            "\u001b[1;32m<ipython-input-50-888e494fb864>\u001b[0m in \u001b[0;36m<module>\u001b[1;34m\u001b[0m\n\u001b[1;32m----> 1\u001b[1;33m \u001b[0mdf\u001b[0m\u001b[1;33m[\u001b[0m\u001b[1;34m'mark'\u001b[0m\u001b[1;33m]\u001b[0m\u001b[1;33m[\u001b[0m\u001b[1;36m0\u001b[0m\u001b[1;33m]\u001b[0m\u001b[1;33m.\u001b[0m\u001b[0mstr\u001b[0m\u001b[1;33m.\u001b[0m\u001b[0mstrip\u001b[0m\u001b[1;33m(\u001b[0m\u001b[1;34m\" A+\"\u001b[0m\u001b[1;33m)\u001b[0m\u001b[1;33m\u001b[0m\u001b[1;33m\u001b[0m\u001b[0m\n\u001b[0m",
            "\u001b[1;31mAttributeError\u001b[0m: 'str' object has no attribute 'str'"
          ]
        }
      ]
    },
    {
      "cell_type": "code",
      "metadata": {
        "id": "goicgdj-MUR9",
        "outputId": "d403b838-8ab5-4ced-cc32-e1e9e8913926"
      },
      "source": [
        "df['mark'][0].strip(\" A+\")"
      ],
      "execution_count": null,
      "outputs": [
        {
          "output_type": "execute_result",
          "data": {
            "text/plain": [
              "'100'"
            ]
          },
          "metadata": {
            "tags": []
          },
          "execution_count": 53
        }
      ]
    },
    {
      "cell_type": "markdown",
      "metadata": {
        "id": "iYcsI6MrMUR9"
      },
      "source": [
        "### column is an object in pandas dataframe. It is different from a cell. Therefore the whole columns should be converted to str before we were be aple to peform strip or split. "
      ]
    },
    {
      "cell_type": "code",
      "metadata": {
        "id": "9RC9piVqMUR9"
      },
      "source": [
        "a=' There is space at the beginning and end. '"
      ],
      "execution_count": null,
      "outputs": []
    },
    {
      "cell_type": "code",
      "metadata": {
        "id": "CAfO1AIaMUR9",
        "outputId": "c7119223-00ca-4add-e142-aec95166218d"
      },
      "source": [
        "a.lstrip().rstrip()"
      ],
      "execution_count": null,
      "outputs": [
        {
          "output_type": "execute_result",
          "data": {
            "text/plain": [
              "'There is space at the beginning and end.'"
            ]
          },
          "metadata": {
            "tags": []
          },
          "execution_count": 59
        }
      ]
    },
    {
      "cell_type": "code",
      "metadata": {
        "id": "z_Soge7GMUR-"
      },
      "source": [
        "string_a=\"Hello World?\""
      ],
      "execution_count": null,
      "outputs": []
    },
    {
      "cell_type": "code",
      "metadata": {
        "id": "KDEbj3B_MUR-",
        "outputId": "1c5cac08-4546-4d67-d836-0b1134906ec9"
      },
      "source": [
        "string_a.find(\"World\")"
      ],
      "execution_count": null,
      "outputs": [
        {
          "output_type": "execute_result",
          "data": {
            "text/plain": [
              "6"
            ]
          },
          "metadata": {
            "tags": []
          },
          "execution_count": 70
        }
      ]
    },
    {
      "cell_type": "code",
      "metadata": {
        "id": "stxwX1lqMUR-",
        "outputId": "ade85ca3-4c2f-46a0-a087-6aef39fa94be"
      },
      "source": [
        "string_a.find(\"hooman\")"
      ],
      "execution_count": null,
      "outputs": [
        {
          "output_type": "execute_result",
          "data": {
            "text/plain": [
              "-1"
            ]
          },
          "metadata": {
            "tags": []
          },
          "execution_count": 71
        }
      ]
    },
    {
      "cell_type": "code",
      "metadata": {
        "id": "dAjn4GLaMUR-",
        "outputId": "ba69d750-0415-4592-a8e9-e32a01dd8695"
      },
      "source": [
        "string_a.index(\"hooman\")"
      ],
      "execution_count": null,
      "outputs": [
        {
          "output_type": "error",
          "ename": "ValueError",
          "evalue": "substring not found",
          "traceback": [
            "\u001b[1;31m---------------------------------------------------------------------------\u001b[0m",
            "\u001b[1;31mValueError\u001b[0m                                Traceback (most recent call last)",
            "\u001b[1;32m<ipython-input-72-02f047da0788>\u001b[0m in \u001b[0;36m<module>\u001b[1;34m\u001b[0m\n\u001b[1;32m----> 1\u001b[1;33m \u001b[0mstring_a\u001b[0m\u001b[1;33m.\u001b[0m\u001b[0mindex\u001b[0m\u001b[1;33m(\u001b[0m\u001b[1;34m\"hooman\"\u001b[0m\u001b[1;33m)\u001b[0m\u001b[1;33m\u001b[0m\u001b[1;33m\u001b[0m\u001b[0m\n\u001b[0m",
            "\u001b[1;31mValueError\u001b[0m: substring not found"
          ]
        }
      ]
    },
    {
      "cell_type": "code",
      "metadata": {
        "id": "PrTOWUT_MUR_",
        "outputId": "1a3e6749-a190-4aec-f589-db1a21398a93"
      },
      "source": [
        "try: \n",
        "    string_a.index(\"hooman\")\n",
        "except:\n",
        "    print(\"hooman not found\")"
      ],
      "execution_count": null,
      "outputs": [
        {
          "output_type": "stream",
          "text": [
            "hooman not found\n"
          ],
          "name": "stdout"
        }
      ]
    },
    {
      "cell_type": "code",
      "metadata": {
        "id": "NlcWe_WtMUR_",
        "outputId": "f014f5f8-5a5a-46ad-a257-1edef259a372"
      },
      "source": [
        "string_a.count(\"H\")"
      ],
      "execution_count": null,
      "outputs": [
        {
          "output_type": "execute_result",
          "data": {
            "text/plain": [
              "1"
            ]
          },
          "metadata": {
            "tags": []
          },
          "execution_count": 74
        }
      ]
    },
    {
      "cell_type": "code",
      "metadata": {
        "id": "5DzIbSU4MUR_",
        "outputId": "c3242f74-c40a-46ed-d6b3-6888ebb5d7aa"
      },
      "source": [
        "string_b=string_a.replace(\"Hello\",\"hooman\")\n",
        "string_b"
      ],
      "execution_count": null,
      "outputs": [
        {
          "output_type": "execute_result",
          "data": {
            "text/plain": [
              "'hooman World?'"
            ]
          },
          "metadata": {
            "tags": []
          },
          "execution_count": 77
        }
      ]
    },
    {
      "cell_type": "markdown",
      "metadata": {
        "id": "cDXoxIMOMUR_"
      },
      "source": [
        "# string formatting "
      ]
    },
    {
      "cell_type": "code",
      "metadata": {
        "id": "5wlBVNJ4MUR_",
        "outputId": "ca9fe31c-238b-4b91-908b-7c5ff5901804"
      },
      "source": [
        "custom_string=\"string formatting\"\n",
        "print(f\"{custom_string} is a powerful technique\")"
      ],
      "execution_count": null,
      "outputs": [
        {
          "output_type": "stream",
          "text": [
            "string formatting is a powerful technique\n"
          ],
          "name": "stdout"
        }
      ]
    },
    {
      "cell_type": "code",
      "metadata": {
        "id": "1Kh6znQdMUSA",
        "outputId": "0393cb24-ce52-49f2-f4a6-a759b5832c97"
      },
      "source": [
        "# positional formatting \n",
        "value = 0\n",
        "'text {}'.format(value)"
      ],
      "execution_count": null,
      "outputs": [
        {
          "output_type": "execute_result",
          "data": {
            "text/plain": [
              "'text 0'"
            ]
          },
          "metadata": {
            "tags": []
          },
          "execution_count": 85
        }
      ]
    },
    {
      "cell_type": "code",
      "metadata": {
        "id": "tgKZ53XsMUSA",
        "outputId": "62a1bc9e-9e9f-4c18-a464-a577dc4d8c9c"
      },
      "source": [
        "# format specifier, f is float\n",
        "print(\"Only {0:f}% of the {1} produced worldwide is {2}!\".format(0.5155675, \"data\", \"analyzed\"))"
      ],
      "execution_count": null,
      "outputs": [
        {
          "output_type": "stream",
          "text": [
            "Only 0.515567% of the data produced worldwide is analyzed!\n"
          ],
          "name": "stdout"
        }
      ]
    },
    {
      "cell_type": "code",
      "metadata": {
        "id": "C8UU-p8KMUSA"
      },
      "source": [
        "# float variable shoudl have 2 decimal points \n",
        "print(\"Only {0:f}% of the {1} produced worldwide is {2}!\".format(0.5155675, \"data\", \"analyzed\"))"
      ],
      "execution_count": null,
      "outputs": []
    },
    {
      "cell_type": "code",
      "metadata": {
        "id": "Feza3osoMUSA"
      },
      "source": [
        "from datetime import datetime"
      ],
      "execution_count": null,
      "outputs": []
    },
    {
      "cell_type": "code",
      "metadata": {
        "id": "yiwcpCLlMUSA",
        "outputId": "cd66f29b-3a03-41a0-97da-b54ab7280c99"
      },
      "source": [
        "print(datetime.now())"
      ],
      "execution_count": null,
      "outputs": [
        {
          "output_type": "stream",
          "text": [
            "2020-12-01 15:42:59.755474\n"
          ],
          "name": "stdout"
        }
      ]
    },
    {
      "cell_type": "code",
      "metadata": {
        "id": "m_A7k0iqMUSA",
        "outputId": "df261616-bcf4-4817-cc7c-9012e06fd256"
      },
      "source": [
        "time=datetime.now()\n",
        "print(f\"Today is {time}\")"
      ],
      "execution_count": null,
      "outputs": [
        {
          "output_type": "stream",
          "text": [
            "Today is 2020-12-01 15:44:16.265089\n"
          ],
          "name": "stdout"
        }
      ]
    },
    {
      "cell_type": "code",
      "metadata": {
        "scrolled": true,
        "id": "oSR-ECjxMUSB",
        "outputId": "6e910c43-eeaf-4c5e-e028-89bf73bf8c9d"
      },
      "source": [
        "print(\"Today is {}\".format(time))"
      ],
      "execution_count": null,
      "outputs": [
        {
          "output_type": "stream",
          "text": [
            "Today is 2020-12-01 15:44:16.265089\n"
          ],
          "name": "stdout"
        }
      ]
    },
    {
      "cell_type": "code",
      "metadata": {
        "id": "1l8TddUeMUSB"
      },
      "source": [
        "a=\"Today is {}\".format(time)"
      ],
      "execution_count": null,
      "outputs": []
    },
    {
      "cell_type": "code",
      "metadata": {
        "id": "YCEuykozMUSB",
        "outputId": "f3605262-b53f-4afb-e6b5-ae5c5e74264d"
      },
      "source": [
        "print(\"Today's date is {:%Y-%m-%d %H:%M}\".format(datetime.now()))"
      ],
      "execution_count": null,
      "outputs": [
        {
          "output_type": "stream",
          "text": [
            "Today's date is 2020-12-01 19:05\n"
          ],
          "name": "stdout"
        }
      ]
    },
    {
      "cell_type": "code",
      "metadata": {
        "id": "VZlK1_rEMUSB"
      },
      "source": [
        "plan = {\n",
        "    \"field\": 'Mechanical',\n",
        "    \"tool\": 'courses[1]'\n",
        "        }"
      ],
      "execution_count": null,
      "outputs": []
    },
    {
      "cell_type": "code",
      "metadata": {
        "id": "g-T5QWipMUSB",
        "outputId": "5af40c5e-9cc8-4bae-ea9e-44c5ec757216"
      },
      "source": [
        "plan['field']"
      ],
      "execution_count": null,
      "outputs": [
        {
          "output_type": "execute_result",
          "data": {
            "text/plain": [
              "'Mechanical'"
            ]
          },
          "metadata": {
            "tags": []
          },
          "execution_count": 107
        }
      ]
    },
    {
      "cell_type": "code",
      "metadata": {
        "scrolled": true,
        "id": "nvnz_4qpMUSC",
        "outputId": "2befdb1d-32a9-42d0-f6d4-0656d8d85241"
      },
      "source": [
        "plan[\"field\"]"
      ],
      "execution_count": null,
      "outputs": [
        {
          "output_type": "execute_result",
          "data": {
            "text/plain": [
              "'Mechanical'"
            ]
          },
          "metadata": {
            "tags": []
          },
          "execution_count": 108
        }
      ]
    },
    {
      "cell_type": "markdown",
      "metadata": {
        "id": "cEsOLHR1MUSC"
      },
      "source": [
        "# Template strings"
      ]
    },
    {
      "cell_type": "markdown",
      "metadata": {
        "id": "r4qhUakfMUSC"
      },
      "source": [
        "### Basic syntax"
      ]
    },
    {
      "cell_type": "code",
      "metadata": {
        "id": "-djvXAcUMUSC"
      },
      "source": [
        "from string import Template"
      ],
      "execution_count": null,
      "outputs": []
    },
    {
      "cell_type": "code",
      "metadata": {
        "id": "J1JIPJ5uMUSC"
      },
      "source": [
        "my_string = Template('Data science has been call $identifier')"
      ],
      "execution_count": null,
      "outputs": []
    },
    {
      "cell_type": "code",
      "metadata": {
        "id": "BX_0RGDDMUSC",
        "outputId": "4fe6ad90-e566-4b6b-9206-6b873fd64bae"
      },
      "source": [
        "my_string.substitute(identifier=\"sexiest job of the 21st century\")"
      ],
      "execution_count": null,
      "outputs": [
        {
          "output_type": "execute_result",
          "data": {
            "text/plain": [
              "'Data science has been call sexiest job of the 21st century'"
            ]
          },
          "metadata": {
            "tags": []
          },
          "execution_count": 112
        }
      ]
    },
    {
      "cell_type": "code",
      "metadata": {
        "id": "_V6xeSEJMUSC"
      },
      "source": [
        "job=\"Data science\"\n",
        "name=\"sexiest job of the 21st century\"\n",
        "my_string = Template('$title has been called $identifier')"
      ],
      "execution_count": null,
      "outputs": []
    },
    {
      "cell_type": "code",
      "metadata": {
        "id": "ZJ1AcgwlMUSD",
        "outputId": "02d98993-c3f9-495e-e237-dc60099f0113"
      },
      "source": [
        "my_string.substitute(title=job, identifier=name)"
      ],
      "execution_count": null,
      "outputs": [
        {
          "output_type": "execute_result",
          "data": {
            "text/plain": [
              "'Data science has been called sexiest job of the 21st century'"
            ]
          },
          "metadata": {
            "tags": []
          },
          "execution_count": 114
        }
      ]
    },
    {
      "cell_type": "markdown",
      "metadata": {
        "id": "Q8RDLtRpMUSD"
      },
      "source": [
        "<b>Use ${identifier} when valid characters follow identifier</b>"
      ]
    },
    {
      "cell_type": "code",
      "metadata": {
        "id": "Xej5hhsVMUSD",
        "outputId": "84159b39-7ba4-4d26-b3bb-6d865084041a"
      },
      "source": [
        "my_string = Template('I find Python very ${noun}ing but my sister has lost $noun')\n",
        "my_string.substitute(noun=\"interest\")"
      ],
      "execution_count": null,
      "outputs": [
        {
          "output_type": "execute_result",
          "data": {
            "text/plain": [
              "'I find Python very interesting but my sister has lost interest'"
            ]
          },
          "metadata": {
            "tags": []
          },
          "execution_count": 115
        }
      ]
    },
    {
      "cell_type": "markdown",
      "metadata": {
        "id": "dvA1S2gEMUSD"
      },
      "source": [
        "<b>Use $$ to escape the dollar sign</b>"
      ]
    },
    {
      "cell_type": "code",
      "metadata": {
        "id": "paKip231MUSD",
        "outputId": "49f0a902-d31b-48b4-f10c-f3df69567fc8"
      },
      "source": [
        "my_string = Template('I paid for the Python course only $$ $price, amazing!')\n",
        "my_string.substitute(price=\"12.50\")"
      ],
      "execution_count": null,
      "outputs": [
        {
          "output_type": "execute_result",
          "data": {
            "text/plain": [
              "'I paid for the Python course only $ 12.50, amazing!'"
            ]
          },
          "metadata": {
            "tags": []
          },
          "execution_count": 116
        }
      ]
    },
    {
      "cell_type": "markdown",
      "metadata": {
        "id": "XXvHMpSrMUSE"
      },
      "source": [
        "### Safe substitution"
      ]
    },
    {
      "cell_type": "code",
      "metadata": {
        "id": "L8PK9-EzMUSE",
        "outputId": "2455f9b9-c66a-495e-a09c-1511140b1084"
      },
      "source": [
        "favorite = dict(flavor=\"chocolate\")\n",
        "my_string = Template('I love $flavor $cake very much')\n",
        "my_string.safe_substitute(favorite)"
      ],
      "execution_count": null,
      "outputs": [
        {
          "output_type": "execute_result",
          "data": {
            "text/plain": [
              "'I love chocolate $cake very much'"
            ]
          },
          "metadata": {
            "tags": []
          },
          "execution_count": 117
        }
      ]
    },
    {
      "cell_type": "markdown",
      "metadata": {
        "id": "R1HoqPK4MUSE"
      },
      "source": [
        "# Regex \n",
        "\n",
        "##### pattern tester \n",
        "\n",
        "https://regex101.com/"
      ]
    },
    {
      "cell_type": "code",
      "metadata": {
        "id": "T0Q268tcMUSE"
      },
      "source": [
        "import re"
      ],
      "execution_count": null,
      "outputs": []
    },
    {
      "cell_type": "markdown",
      "metadata": {
        "id": "uZQLCnDdMUSE"
      },
      "source": [
        "### find all matches of a pattern \n",
        "re.findall(r\"regex\",string)"
      ]
    },
    {
      "cell_type": "code",
      "metadata": {
        "id": "o25GS6N1MUSE",
        "outputId": "2724645c-284f-4f7e-8c73-402ad91155e7"
      },
      "source": [
        "re.findall(r\"#movies\", \"Love #movies! I had fun yesterday going to the #movies\")"
      ],
      "execution_count": null,
      "outputs": [
        {
          "output_type": "execute_result",
          "data": {
            "text/plain": [
              "['#movies', '#movies']"
            ]
          },
          "metadata": {
            "tags": []
          },
          "execution_count": 119
        }
      ]
    },
    {
      "cell_type": "markdown",
      "metadata": {
        "id": "o9xWV3wmMUSE"
      },
      "source": [
        "## split string at each match of for example \"!\"\n",
        "re.split(r\"regex\", string)"
      ]
    },
    {
      "cell_type": "code",
      "metadata": {
        "id": "xLi6eXgKMUSF",
        "outputId": "67d00810-c365-44ed-a9ab-8afdc101dca2"
      },
      "source": [
        "re.split(r\"!\", \"Nice Place to eat! I'll come back! Excellent meat!\")"
      ],
      "execution_count": null,
      "outputs": [
        {
          "output_type": "execute_result",
          "data": {
            "text/plain": [
              "['Nice Place to eat', \" I'll come back\", ' Excellent meat', '']"
            ]
          },
          "metadata": {
            "tags": []
          },
          "execution_count": 120
        }
      ]
    },
    {
      "cell_type": "code",
      "metadata": {
        "id": "I8BTGTvAMUSF",
        "outputId": "141518dd-a9b1-4d28-ccfe-4bd82a638a9a"
      },
      "source": [
        "\"Nice Place to eat! I'll come back! Excellent meat!\".split(\"!\")"
      ],
      "execution_count": null,
      "outputs": [
        {
          "output_type": "execute_result",
          "data": {
            "text/plain": [
              "['Nice Place to eat', \" I'll come back\", ' Excellent meat', '']"
            ]
          },
          "metadata": {
            "tags": []
          },
          "execution_count": 121
        }
      ]
    },
    {
      "cell_type": "markdown",
      "metadata": {
        "id": "rJrvlx3dMUSF"
      },
      "source": [
        "## Replace one or many mathes with a string:\n",
        "re.sub(r\"regex\", new, string)"
      ]
    },
    {
      "cell_type": "code",
      "metadata": {
        "id": "ceJkvjj0MUSF",
        "outputId": "3bb8cc3f-4d01-492a-8786-5315463a7756"
      },
      "source": [
        "re.sub(r\"yellow\", \"nice\", \"I have a yellow car and a yellow house in a yellow neighborhood\")"
      ],
      "execution_count": null,
      "outputs": [
        {
          "output_type": "execute_result",
          "data": {
            "text/plain": [
              "'I have a nice car and a nice house in a nice neighborhood'"
            ]
          },
          "metadata": {
            "tags": []
          },
          "execution_count": 127
        }
      ]
    },
    {
      "cell_type": "markdown",
      "metadata": {
        "id": "UpRPwDe8MUSF"
      },
      "source": [
        "### Methacharacter .  : Any Character Except New Line\n",
        "\n",
        "123-123@\n",
        "\n",
        "\\d{3}-\\d{3}."
      ]
    },
    {
      "cell_type": "markdown",
      "metadata": {
        "id": "CO182Mm6MUSF"
      },
      "source": [
        "### Methacharacter \\d  : digit pattern (0-9)"
      ]
    },
    {
      "cell_type": "code",
      "metadata": {
        "id": "Ja5i3E_OMUSG",
        "outputId": "121b5a48-d864-4aa0-b10c-b5f6193278f4"
      },
      "source": [
        "re.findall(r\"User\\d\", \"The winners are: User9, UserN, User8\")"
      ],
      "execution_count": null,
      "outputs": [
        {
          "output_type": "execute_result",
          "data": {
            "text/plain": [
              "['User9', 'User8']"
            ]
          },
          "metadata": {
            "tags": []
          },
          "execution_count": 129
        }
      ]
    },
    {
      "cell_type": "markdown",
      "metadata": {
        "id": "ntMpYZfOMUSG"
      },
      "source": [
        "### Metacharacter \\D : Non-digit pattern (0-9)"
      ]
    },
    {
      "cell_type": "code",
      "metadata": {
        "id": "84sJlRoIMUSG",
        "outputId": "56d4fb01-f756-4875-8e4c-1fa75dc2c435"
      },
      "source": [
        "re.findall(r\"User\\D\", \"The winners are: User9, UserN, User8\")"
      ],
      "execution_count": null,
      "outputs": [
        {
          "output_type": "execute_result",
          "data": {
            "text/plain": [
              "['UserN']"
            ]
          },
          "metadata": {
            "tags": []
          },
          "execution_count": 130
        }
      ]
    },
    {
      "cell_type": "markdown",
      "metadata": {
        "id": "JVak_hjnMUSG"
      },
      "source": [
        "### Metacharacter \\w : word  alphabet (a-z, A-Z, 0-9, _ )"
      ]
    },
    {
      "cell_type": "code",
      "metadata": {
        "id": "njX81cynMUSG",
        "outputId": "fbf838a3-9e4a-4180-8094-ff4e15b7eb7e"
      },
      "source": [
        "re.findall(r\"User\\w\", \"The winners are: User9, UserN, User8\")"
      ],
      "execution_count": null,
      "outputs": [
        {
          "output_type": "execute_result",
          "data": {
            "text/plain": [
              "['User9', 'UserN', 'User8']"
            ]
          },
          "metadata": {
            "tags": []
          },
          "execution_count": 131
        }
      ]
    },
    {
      "cell_type": "markdown",
      "metadata": {
        "id": "A67uV_AaMUSG"
      },
      "source": [
        "### Metacharacter \\W : Non-word especial characters % & ' \" \\n "
      ]
    },
    {
      "cell_type": "code",
      "metadata": {
        "id": "2rck4gvMMUSH",
        "outputId": "98f99c94-4bf2-450d-adc3-2dd2db44f288"
      },
      "source": [
        "re.findall(r\"\\W\\d\", \"This skirt is on sale, only $5 today!\")"
      ],
      "execution_count": null,
      "outputs": [
        {
          "output_type": "execute_result",
          "data": {
            "text/plain": [
              "['$5']"
            ]
          },
          "metadata": {
            "tags": []
          },
          "execution_count": 132
        }
      ]
    },
    {
      "cell_type": "markdown",
      "metadata": {
        "id": "3a-LLpJrMUSH"
      },
      "source": [
        "### Metacharacter \\s : Whitespace (space, tab, newline)"
      ]
    },
    {
      "cell_type": "code",
      "metadata": {
        "id": "YoZmyrv-MUSH",
        "outputId": "1e296571-2c2a-466d-fd46-6c88bbf911f3"
      },
      "source": [
        "# for finding the pattern of \"Data Science\" we must cover the space by using \\s\n",
        "re.findall(r\"Data\\sScience\", \"I enjoy learning Data Science\")"
      ],
      "execution_count": null,
      "outputs": [
        {
          "output_type": "execute_result",
          "data": {
            "text/plain": [
              "['Data Science']"
            ]
          },
          "metadata": {
            "tags": []
          },
          "execution_count": 133
        }
      ]
    },
    {
      "cell_type": "markdown",
      "metadata": {
        "id": "aPr9vb5FMUSH"
      },
      "source": [
        "### Metacharacter \\S : Non-whitespace  (space, tab, newline)"
      ]
    },
    {
      "cell_type": "code",
      "metadata": {
        "id": "0MV85hAXMUSH",
        "outputId": "b6033a91-bcf8-4612-e01e-af6bca98e4e5"
      },
      "source": [
        "re.sub(r\"ice\\Scream\", \"ice cream\", \"I really like ice-cream\")\n"
      ],
      "execution_count": null,
      "outputs": [
        {
          "output_type": "execute_result",
          "data": {
            "text/plain": [
              "'I really like ice cream'"
            ]
          },
          "metadata": {
            "tags": []
          },
          "execution_count": 135
        }
      ]
    },
    {
      "cell_type": "markdown",
      "metadata": {
        "id": "L_-BubncMUSI"
      },
      "source": [
        "#### these are called Ancher:\n",
        "#### Metacharacter \\b : Word Boundary\n",
        "Ha HaHa\n",
        "\\bHa will find frist and second \n",
        "\\B will find the third one only\n",
        "#### Metacharacter \\B : Not a Word Boundary\n",
        "\n",
        "####  ^ : Beginning of a String\n",
        "\n",
        "sentence='Start a sentence and then bring it to an end'\n",
        "\n",
        "r'^Start'\n",
        "\n",
        "Start\n",
        "\n",
        "r'^a'\n",
        "\n",
        "no match\n",
        "\n",
        "r'ensd$'\n",
        "\n",
        "end\n",
        "\n",
        "####  $ : End of a string \n",
        "\n",
        "#### [] : this is called character set and Matches Characters in brackets\n",
        "123-123-1234\n",
        "123*123*1234\n",
        "123.123.1234\n",
        "\n",
        "\\d{3}[-.* ]\\d{3}[-.* ]\\d{4}   will find all of them but if you have -- can not find it because it is not included in character set\n",
        "\n",
        "800-123-1234\n",
        "900-123-1234\n",
        "\n",
        "[89]00[-]  will find 800 and 900\n",
        "\n",
        "#### [^ ] : Matches Characters Not in  "
      ]
    },
    {
      "cell_type": "code",
      "metadata": {
        "id": "et0kFiZiMUSI"
      },
      "source": [
        ""
      ],
      "execution_count": null,
      "outputs": []
    },
    {
      "cell_type": "markdown",
      "metadata": {
        "id": "_UQkhNRbMUSI"
      },
      "source": [
        "### Repeated characters "
      ]
    },
    {
      "cell_type": "code",
      "metadata": {
        "id": "P6Mz0mkqMUSI",
        "outputId": "c2377741-8956-4cc8-b505-0b914214423e"
      },
      "source": [
        "import re\n",
        "password = \"password1234\"\n",
        "re.search(r\"\\w{8}\\d{4}\", password)"
      ],
      "execution_count": null,
      "outputs": [
        {
          "output_type": "execute_result",
          "data": {
            "text/plain": [
              "<re.Match object; span=(0, 12), match='password1234'>"
            ]
          },
          "metadata": {
            "tags": []
          },
          "execution_count": 136
        }
      ]
    },
    {
      "cell_type": "markdown",
      "metadata": {
        "id": "R1wDwrfVMUSI"
      },
      "source": [
        "### Quantifiers  * : means 0 or more"
      ]
    },
    {
      "cell_type": "code",
      "metadata": {
        "id": "Or3UW_OlMUSI",
        "outputId": "4f184400-49a4-433a-feeb-61ff3d1f6a84"
      },
      "source": [
        "my_string = \"The concert was amazing! @ameli!a @joh&&n @mary90\"\n",
        "re.findall(r\"@\\w+\\W*\\w+\", my_string)"
      ],
      "execution_count": null,
      "outputs": [
        {
          "output_type": "execute_result",
          "data": {
            "text/plain": [
              "['@ameli!a', '@joh&&n', '@mary90']"
            ]
          },
          "metadata": {
            "tags": []
          },
          "execution_count": 159
        }
      ]
    },
    {
      "cell_type": "markdown",
      "metadata": {
        "id": "4yG7qAukMUSJ"
      },
      "source": [
        "### Quantifiers  + : means 1 or more "
      ]
    },
    {
      "cell_type": "code",
      "metadata": {
        "id": "CVeBbidTMUSJ",
        "outputId": "0155d6d4-aedc-48e1-fe27-e6616ce98f9c"
      },
      "source": [
        "text = \"Date of start: 4-3. Date of registration: 10-04.\"\n",
        "re.findall(r\"\\d+-\\d+\", text)"
      ],
      "execution_count": null,
      "outputs": [
        {
          "output_type": "execute_result",
          "data": {
            "text/plain": [
              "['4-3', '10-04']"
            ]
          },
          "metadata": {
            "tags": []
          },
          "execution_count": 160
        }
      ]
    },
    {
      "cell_type": "markdown",
      "metadata": {
        "id": "id5znxXBMUSJ"
      },
      "source": [
        "### Quantifiers  ? : means 0 or 1 time\n",
        "\n",
        "adding a ? after a greedy quantifier makes it lazy. please refer to Regex Chapter 3 pdf datacamp course. "
      ]
    },
    {
      "cell_type": "code",
      "metadata": {
        "id": "5QSzzG5LMUSJ",
        "outputId": "a270b4b9-cb30-4818-c166-de48bd889fd0"
      },
      "source": [
        "# we use it for spell variation \n",
        "text = \"The color of this image is amazing. However, the colour blue could be brighter.\"\n",
        "re.findall(r\"colou?r\", text)"
      ],
      "execution_count": null,
      "outputs": [
        {
          "output_type": "execute_result",
          "data": {
            "text/plain": [
              "['color', 'colour']"
            ]
          },
          "metadata": {
            "tags": []
          },
          "execution_count": 161
        }
      ]
    },
    {
      "cell_type": "code",
      "metadata": {
        "id": "0mHJ6dNlMUSK"
      },
      "source": [
        "# Greedy matching "
      ],
      "execution_count": null,
      "outputs": []
    },
    {
      "cell_type": "code",
      "metadata": {
        "id": "ls2_yrGTMUSK"
      },
      "source": [
        "numbers_found_lazy = re.findall(r\"\\d+\", sentiment_analysis)\n",
        "\n",
        "['536', '12']"
      ],
      "execution_count": null,
      "outputs": []
    },
    {
      "cell_type": "markdown",
      "metadata": {
        "id": "ASL3iRD4MUSK"
      },
      "source": [
        "A lazy quantifier will make the regex return 2 and 4, because they will match as few characters as needed. However, a greedy quantifier will return the entire 24 due to its need to match as much as possible."
      ]
    },
    {
      "cell_type": "code",
      "metadata": {
        "id": "MiVItKFnMUSK"
      },
      "source": [
        "# Lazy matching"
      ],
      "execution_count": null,
      "outputs": []
    },
    {
      "cell_type": "code",
      "metadata": {
        "id": "EQ5TzJ5VMUSK"
      },
      "source": [
        "numbers_found_lazy = re.findall(r\"\\d+?\", sentiment_analysis)\n",
        "\n",
        "['5', '3', '6', '1', '2']"
      ],
      "execution_count": null,
      "outputs": []
    },
    {
      "cell_type": "markdown",
      "metadata": {
        "id": "c8QjUjDbMUSL"
      },
      "source": [
        "For example, if you want to extract a word starting with a and ending with e in the string I like apple pie, you may think that applying the greedy regex a.+e will return apple. However, your match will be apple pie. A way to overcome this is to make it lazy by using ? which will return apple. a.+?e"
      ]
    },
    {
      "cell_type": "markdown",
      "metadata": {
        "id": "0uC4fnwAMUSL"
      },
      "source": [
        "### Quantifiers{n, m}  : n times at least, m times at most : "
      ]
    },
    {
      "cell_type": "code",
      "metadata": {
        "id": "DxBjqbOwMUSL",
        "outputId": "29432cb5-c533-4586-d552-c349329bf0da"
      },
      "source": [
        "phone_number = \"John: 1-966-847-3131 Michelle: 54-908-42-42424\"\n",
        "re.findall(r\"\\d{1,2}-\\d{3}-\\d{2,3}-\\d{4,}\", phone_number)"
      ],
      "execution_count": null,
      "outputs": [
        {
          "output_type": "execute_result",
          "data": {
            "text/plain": [
              "['1-966-847-3131', '54-908-42-42424']"
            ]
          },
          "metadata": {
            "tags": []
          },
          "execution_count": 151
        }
      ]
    },
    {
      "cell_type": "markdown",
      "metadata": {
        "id": "VKPlHS_UMUSL"
      },
      "source": [
        "### all these quantifiers and especial characters applies immediate to the left \n",
        "- r\"apple+\" : + applies to e and not to apple"
      ]
    },
    {
      "cell_type": "markdown",
      "metadata": {
        "id": "vA6ZNoH3MUSL"
      },
      "source": [
        "#### it will find the index of the pattern \n",
        "re.finditer"
      ]
    },
    {
      "cell_type": "markdown",
      "metadata": {
        "id": "LjtBdop7MUSL"
      },
      "source": [
        "MethaChacters (need to escaped by\\) unless you want to use them for thier purpose. For example dot is a methcharacter that means any character unless you want to use period which mandates you to use\\ before the the dot.\n",
        ". ^ $ * + ? { } [ ] \\ | ( )"
      ]
    },
    {
      "cell_type": "markdown",
      "metadata": {
        "id": "QKqIOzeyMUSM"
      },
      "source": [
        "#### finding numbers, not all numbers for example finding any number between 1 to 5 \n",
        "[1-5]"
      ]
    },
    {
      "cell_type": "markdown",
      "metadata": {
        "id": "HrMWOrrcMUSM"
      },
      "source": [
        "##### we can do the same thing for letters as well. \n",
        "[a-zA-Z]"
      ]
    },
    {
      "cell_type": "markdown",
      "metadata": {
        "id": "vB9XAXNmMUSM"
      },
      "source": [
        "# Pipe Operator: | means or "
      ]
    },
    {
      "cell_type": "code",
      "metadata": {
        "id": "emFVLn3HMUSM",
        "outputId": "5295a0de-92d5-4c6f-e457-068de7c441c4"
      },
      "source": [
        "my_string = \"I want to have a pet. But I don't know if I want a cat, a dog or a bird.\"\n",
        "re.findall(r\"cat|dog|bird\", my_string)"
      ],
      "execution_count": null,
      "outputs": [
        {
          "output_type": "execute_result",
          "data": {
            "text/plain": [
              "['cat', 'dog', 'bird']"
            ]
          },
          "metadata": {
            "tags": []
          },
          "execution_count": 195
        }
      ]
    },
    {
      "cell_type": "code",
      "metadata": {
        "id": "VmDbvc--MUSM",
        "outputId": "f77c5a63-5a90-4388-fc6c-0089a0ee48f4"
      },
      "source": [
        "my_string = \"I want to have a pet. But I don't know if I want 2 cats, 1 dog or a bird.\"\n",
        "re.findall(r\"\\d+\\s(cat|dog|bird)\", my_string)"
      ],
      "execution_count": null,
      "outputs": [
        {
          "output_type": "execute_result",
          "data": {
            "text/plain": [
              "['cat', 'dog']"
            ]
          },
          "metadata": {
            "tags": []
          },
          "execution_count": 197
        }
      ]
    },
    {
      "cell_type": "markdown",
      "metadata": {
        "id": "x7R8EIJ-MUSM"
      },
      "source": [
        "### Alternation: Use groups to choose between optional patterns"
      ]
    },
    {
      "cell_type": "code",
      "metadata": {
        "id": "Hq4j62JhMUSN",
        "outputId": "a57bad28-3f05-4669-8a83-2087b6ffb3f1"
      },
      "source": [
        "my_string = \"I want to have a pet. But I don't know if I want 2 cats, 1 dog or a bird.\"\n",
        "re.findall(r\"\\d+\\s(cat|dog|bird)\", my_string)"
      ],
      "execution_count": null,
      "outputs": [
        {
          "output_type": "execute_result",
          "data": {
            "text/plain": [
              "['cat', 'dog']"
            ]
          },
          "metadata": {
            "tags": []
          },
          "execution_count": 198
        }
      ]
    },
    {
      "cell_type": "code",
      "metadata": {
        "scrolled": true,
        "id": "t367ZT9uMUSN",
        "outputId": "f0e8b641-e1e3-4b59-8908-27a809f5e477"
      },
      "source": [
        "my_string = \"I want to have a pet. But I don't know if I want 2 cats, 1 dog or a bird.\"\n",
        "re.findall(r\"(\\d)+\\s(cat|dog|bird)\", my_string)"
      ],
      "execution_count": null,
      "outputs": [
        {
          "output_type": "execute_result",
          "data": {
            "text/plain": [
              "[('2', 'cat'), ('1', 'dog')]"
            ]
          },
          "metadata": {
            "tags": []
          },
          "execution_count": 199
        }
      ]
    },
    {
      "cell_type": "markdown",
      "metadata": {
        "id": "W25PJTbdMUSN"
      },
      "source": [
        "### Non-capturing groups\n",
        "Note: The non-captured group does not get a group number. \n",
        "\n",
        "`Add ?: : (?:regex)`"
      ]
    },
    {
      "cell_type": "code",
      "metadata": {
        "id": "prCnqsnxMUSN",
        "outputId": "8ce53fd9-93ac-4a08-b703-4804744a7aa0"
      },
      "source": [
        "my_string = \"John Smith: 34-34-34-042-980, Rebeca Smith: 10-10-10-434-425\"\n",
        "re.findall(r\"(?:\\d{2}-){3}(\\d{3}-\\d{3})\", my_string)"
      ],
      "execution_count": null,
      "outputs": [
        {
          "output_type": "execute_result",
          "data": {
            "text/plain": [
              "['042-980', '434-425']"
            ]
          },
          "metadata": {
            "tags": []
          },
          "execution_count": 200
        }
      ]
    },
    {
      "cell_type": "markdown",
      "metadata": {
        "id": "DhNPcNwaMUSN"
      },
      "source": [
        "#### Use non-capturing groups for alternation"
      ]
    },
    {
      "cell_type": "code",
      "metadata": {
        "id": "rnlnzyXeMUSO",
        "outputId": "3e639d41-942e-4e0b-9060-6c29e504f5a2"
      },
      "source": [
        "my_date = \"Today is 23rd May 2019. Tomorrow is 24th May 19.\"\n",
        "re.findall(r\"(\\d+)(?:th|rd)\", my_date)"
      ],
      "execution_count": null,
      "outputs": [
        {
          "output_type": "execute_result",
          "data": {
            "text/plain": [
              "['23', '24']"
            ]
          },
          "metadata": {
            "tags": []
          },
          "execution_count": 201
        }
      ]
    },
    {
      "cell_type": "markdown",
      "metadata": {
        "id": "Ky0xbwAnMUSO"
      },
      "source": [
        "Non-capturing groups\n",
        "Match but not capture a group\n",
        "When group is not backreferenced\n",
        "Add ?: : (?:regex)"
      ]
    },
    {
      "cell_type": "markdown",
      "metadata": {
        "id": "vrfdSeoTMUSO"
      },
      "source": [
        "# grouping :by using paranteces ( )\n",
        "Example:\n",
        "\n",
        "Mr. Schafer \n",
        "\n",
        "Mr. Smith \n",
        "\n",
        "Mrs. Robinsion \n",
        "\n",
        "Ms Davis \n",
        "\n",
        "\n",
        "`r'M(r|s|rs)\\.?\\s[A-z]\\w+'` # in hear \"|\" means \"or\""
      ]
    },
    {
      "cell_type": "markdown",
      "metadata": {
        "id": "3ZpWazXuMUSO"
      },
      "source": [
        "#### Numbered groups"
      ]
    },
    {
      "cell_type": "markdown",
      "metadata": {
        "id": "HuYszkEwMUSP"
      },
      "source": [
        "#### Note: .group() only works with .match and .search groups"
      ]
    },
    {
      "cell_type": "markdown",
      "metadata": {
        "id": "ALw9d5ekMUSP"
      },
      "source": [
        "Both return the first match of a substring found in the string, but re. match() searches only from the beginning of the string and return match object if found. ... While re.search() searches for the whole string even if the string contains multi-lines and tries to find a match of the substring in all the lines of string."
      ]
    },
    {
      "cell_type": "code",
      "metadata": {
        "id": "TeT_uJ55MUSP"
      },
      "source": [
        "text = \"Python 3.0 was released on 12-03-2008.\"\n",
        "information = re.search('(\\d{1,2})-(\\d{2})-(\\d{4})', text)\n"
      ],
      "execution_count": null,
      "outputs": []
    },
    {
      "cell_type": "code",
      "metadata": {
        "id": "htmVBQr8MUSP",
        "outputId": "70afb246-e3ec-43d0-e3df-e82f2b5e59dc"
      },
      "source": [
        "information.group(0)"
      ],
      "execution_count": null,
      "outputs": [
        {
          "output_type": "execute_result",
          "data": {
            "text/plain": [
              "'12-03-2008'"
            ]
          },
          "metadata": {
            "tags": []
          },
          "execution_count": 212
        }
      ]
    },
    {
      "cell_type": "code",
      "metadata": {
        "id": "D10wvXSPMUSP",
        "outputId": "2510e11b-a2b5-474b-9498-a3975d2c4a55"
      },
      "source": [
        "# group 0 is the whole pattern, grouping for paranteces starts from 1,2,3...\n",
        "information.group(3)"
      ],
      "execution_count": null,
      "outputs": [
        {
          "output_type": "execute_result",
          "data": {
            "text/plain": [
              "'2008'"
            ]
          },
          "metadata": {
            "tags": []
          },
          "execution_count": 218
        }
      ]
    },
    {
      "cell_type": "markdown",
      "metadata": {
        "id": "7eHLYVbeMUSP"
      },
      "source": [
        "#### Named groups"
      ]
    },
    {
      "cell_type": "code",
      "metadata": {
        "id": "ONFnKKy6MUSQ"
      },
      "source": [
        "text = \"Austin, 78701\"\n",
        "cities = re.search(r\"(?P<city>[A-Za-z]+).*?(?P<zipcode>\\d{5})\", text)"
      ],
      "execution_count": null,
      "outputs": []
    },
    {
      "cell_type": "code",
      "metadata": {
        "id": "VugM7v0TMUSQ",
        "outputId": "056f9340-3f1b-43af-e5f8-fb9933001668"
      },
      "source": [
        "type(cities)"
      ],
      "execution_count": null,
      "outputs": [
        {
          "output_type": "execute_result",
          "data": {
            "text/plain": [
              "re.Match"
            ]
          },
          "metadata": {
            "tags": []
          },
          "execution_count": 216
        }
      ]
    },
    {
      "cell_type": "code",
      "metadata": {
        "id": "HxHgekUVMUSQ",
        "outputId": "40c50666-f1ad-4ad3-b918-4e71227bdef7"
      },
      "source": [
        "cities.group(\"city\")"
      ],
      "execution_count": null,
      "outputs": [
        {
          "output_type": "execute_result",
          "data": {
            "text/plain": [
              "'Austin'"
            ]
          },
          "metadata": {
            "tags": []
          },
          "execution_count": 215
        }
      ]
    },
    {
      "cell_type": "markdown",
      "metadata": {
        "id": "LMQkr2iYMUSQ"
      },
      "source": [
        "### Backreferences\n",
        "<font color='blue'> <b> Using capturing groups to reference back to a group </b> </font>"
      ]
    },
    {
      "cell_type": "code",
      "metadata": {
        "scrolled": true,
        "id": "px08olPhMUSQ",
        "outputId": "adc02029-64ac-4f3a-fa60-e0e7bf4fd906"
      },
      "source": [
        "sentence = \"I wish you a happy happy birthday!\"\n",
        "re.findall(r\"(\\w+)\\s \", sentence)"
      ],
      "execution_count": null,
      "outputs": [
        {
          "output_type": "execute_result",
          "data": {
            "text/plain": [
              "[]"
            ]
          },
          "metadata": {
            "tags": []
          },
          "execution_count": 204
        }
      ]
    },
    {
      "cell_type": "code",
      "metadata": {
        "id": "VXl-Svg-MUSQ",
        "outputId": "a70c85ec-ce71-47a3-9476-24c77cffa1db"
      },
      "source": [
        "sentence = \"I wish you a happy happy birthday!\"\n",
        "re.findall(r\"(\\w+)\\s\", sentence)"
      ],
      "execution_count": null,
      "outputs": [
        {
          "output_type": "execute_result",
          "data": {
            "text/plain": [
              "['I', 'wish', 'you', 'a', 'happy', 'happy']"
            ]
          },
          "metadata": {
            "tags": []
          },
          "execution_count": 224
        }
      ]
    },
    {
      "cell_type": "code",
      "metadata": {
        "id": "PZPkqWAdMUSR"
      },
      "source": [
        "# this is used for repeated words. We want to see the specific word repeated again in the sentence."
      ],
      "execution_count": null,
      "outputs": []
    },
    {
      "cell_type": "code",
      "metadata": {
        "id": "4LRcuJlRMUSR",
        "outputId": "0d3588eb-45fb-4673-b9a8-ec87590c762d"
      },
      "source": [
        "sentence = \"I wish you a happy happy birthday!\"\n",
        "re.findall(r\"(\\w+)\\s\\1\", sentence)"
      ],
      "execution_count": null,
      "outputs": [
        {
          "output_type": "execute_result",
          "data": {
            "text/plain": [
              "['happy']"
            ]
          },
          "metadata": {
            "tags": []
          },
          "execution_count": 227
        }
      ]
    },
    {
      "cell_type": "code",
      "metadata": {
        "id": "RAX493zxMUSR",
        "outputId": "bd66994e-5eda-4e8f-c2b2-e3b2875fab6b"
      },
      "source": [
        "sentence = \"I wish you a happy happy birthday!\"\n",
        "re.sub(r\"(\\w+)\\s\\1\", r\"\\1\", sentence)"
      ],
      "execution_count": null,
      "outputs": [
        {
          "output_type": "execute_result",
          "data": {
            "text/plain": [
              "'I wish you a happy birthday!'"
            ]
          },
          "metadata": {
            "tags": []
          },
          "execution_count": 206
        }
      ]
    },
    {
      "cell_type": "markdown",
      "metadata": {
        "id": "jnx1LTuNMUSR"
      },
      "source": [
        "### Example:"
      ]
    },
    {
      "cell_type": "code",
      "metadata": {
        "id": "F-ozN79rMUSR"
      },
      "source": [
        "for string in html_tags:\n",
        "    # Complete the regex and find if it matches a closed HTML tags\n",
        "    match_tag =  re.match(r\"<(\\w+)>.*?</\\1>\", string)\n",
        " \n",
        "    if match_tag:\n",
        "        # If it matches print the first group capture\n",
        "        print(\"Your tag {} is closed\".format(match_tag.group(1))) \n",
        "    else:\n",
        "        # If it doesn't match capture only the tag \n",
        "        notmatch_tag = re.match(r\"<(\\w+)>\", string)\n",
        "        # Print the first group capture\n",
        "        print(\"Close your {} tag!\".format(notmatch_tag.group(1)))"
      ],
      "execution_count": null,
      "outputs": []
    },
    {
      "cell_type": "markdown",
      "metadata": {
        "id": "p-EHblAwMUSR"
      },
      "source": [
        "<font color='blue'> <b> Using named capturing groups to reference back </b> </font>"
      ]
    },
    {
      "cell_type": "code",
      "metadata": {
        "id": "PaMYnXGGMUSS",
        "outputId": "ef4dac39-04fb-4985-9d67-8c600b7b214d"
      },
      "source": [
        "sentence = \"Your new code number is 23434. Please, enter 23434 to open the door.\"\n",
        "re.findall(r\"(?P<code>\\d{5}).*?(?P=code)\", sentence)"
      ],
      "execution_count": null,
      "outputs": [
        {
          "output_type": "execute_result",
          "data": {
            "text/plain": [
              "['23434']"
            ]
          },
          "metadata": {
            "tags": []
          },
          "execution_count": 207
        }
      ]
    },
    {
      "cell_type": "markdown",
      "metadata": {
        "id": "HV-z41mAMUSS"
      },
      "source": [
        "<font color='blue'><b> Using \\g when we want to replace the repeated pattern and only applies to named groups!!!  <b></font>"
      ]
    },
    {
      "cell_type": "code",
      "metadata": {
        "id": "CW0WRCdtMUSS",
        "outputId": "96389f34-a71a-44ad-fc19-e29b81106a94"
      },
      "source": [
        "sentence = \"This app is not working! It's repeating the last word word.\"\n",
        "re.sub(r\"(?P<word>\\w+)\\s(?P=word)\", r\"\\g<word>\", sentence)"
      ],
      "execution_count": null,
      "outputs": [
        {
          "output_type": "execute_result",
          "data": {
            "text/plain": [
              "\"This app is not working! It's repeating the last word.\""
            ]
          },
          "metadata": {
            "tags": []
          },
          "execution_count": 208
        }
      ]
    },
    {
      "cell_type": "markdown",
      "metadata": {
        "id": "lzYWouvhMUSS"
      },
      "source": [
        "## Example:\n",
        "\n",
        "nouraei@gmail.com \n",
        "\n",
        "r'[a-zA-Z]+@[a-zA-Z]+\\.com'\n",
        "\n",
        "hooman.nouraei@gmail.edu\n",
        "\n",
        "r'[a-zA-Z.]+@[a-zA-Z]+\\.(com|edu)'\n",
        "\n",
        "h-nouraei-2002@my-yahoo.net\n",
        "\n",
        "<center><font color='green'> r'[a-zA-Z.-]+@[a-zA-Z-]+\\.(com|edu|net)'</font></center>\n"
      ]
    },
    {
      "cell_type": "markdown",
      "metadata": {
        "id": "49uVH0P3MUSS"
      },
      "source": [
        "## Example:\n",
        "\n",
        "https://www.google.com\n",
        "\n",
        "http:coreyms.com\n",
        "\n",
        "https://youtube.com\n",
        "\n",
        "https://www.nasa.gov \n",
        "\n",
        "\n",
        "r'https?://(www\\.)?\\w+\\.\\w+' \n",
        "\n",
        "<center><font color='green'> r'https?://(www\\.)?\\w+\\.\\w+'</font></center>"
      ]
    },
    {
      "cell_type": "markdown",
      "metadata": {
        "id": "W5rhAXuNMUSS"
      },
      "source": [
        "### Group characters"
      ]
    },
    {
      "cell_type": "code",
      "metadata": {
        "id": "c20tFdimMUSS"
      },
      "source": [
        "text='''Clary has 2 friends who she spends\n",
        "        a lot time with. Susan has 3 brothers \n",
        "        while John has 4 sisters.'''\n",
        "# we want to capture name and number of firends. That is why we need grouping."
      ],
      "execution_count": null,
      "outputs": []
    },
    {
      "cell_type": "code",
      "metadata": {
        "id": "YAy36ZYzMUST",
        "outputId": "7daf66c5-4a01-41bf-9cfd-4d68ba093993"
      },
      "source": [
        "re.findall('[A-Za-z]+\\s\\w+\\s\\d+\\s\\w+', text) # word has must be removed!!!"
      ],
      "execution_count": null,
      "outputs": [
        {
          "output_type": "execute_result",
          "data": {
            "text/plain": [
              "['Clary has 2 friends', 'Susan has 3 brothers', 'John has 4 sisters']"
            ]
          },
          "metadata": {
            "tags": []
          },
          "execution_count": 168
        }
      ]
    },
    {
      "cell_type": "code",
      "metadata": {
        "id": "dqs7nrscMUST",
        "outputId": "34d28df6-4ac6-4cad-d4f5-16f7822521a1"
      },
      "source": [
        "# first we find all the names\n",
        "re.findall('([A-Za-z]+)\\s\\w+\\s\\d+\\s\\w+', text)"
      ],
      "execution_count": null,
      "outputs": [
        {
          "output_type": "execute_result",
          "data": {
            "text/plain": [
              "['Clary', 'Susan', 'John']"
            ]
          },
          "metadata": {
            "tags": []
          },
          "execution_count": 169
        }
      ]
    },
    {
      "cell_type": "code",
      "metadata": {
        "id": "5QAqkQWhMUST",
        "outputId": "c5b0c9c2-660c-4e6f-8d2c-f9b55b75a95b"
      },
      "source": [
        "friends = re.findall('([A-Za-z]+)\\s\\w+\\s(\\d+)\\s(\\w+)', text)\n",
        "friends"
      ],
      "execution_count": null,
      "outputs": [
        {
          "output_type": "execute_result",
          "data": {
            "text/plain": [
              "[('Clary', '2', 'friends'),\n",
              " ('Susan', '3', 'brothers'),\n",
              " ('John', '4', 'sisters')]"
            ]
          },
          "metadata": {
            "tags": []
          },
          "execution_count": 177
        }
      ]
    },
    {
      "cell_type": "code",
      "metadata": {
        "id": "RK3CBvs-MUST",
        "outputId": "d9e3df32-8a48-4ad9-ab01-1e599857d3f5"
      },
      "source": [
        "type(friends)"
      ],
      "execution_count": null,
      "outputs": [
        {
          "output_type": "execute_result",
          "data": {
            "text/plain": [
              "list"
            ]
          },
          "metadata": {
            "tags": []
          },
          "execution_count": 179
        }
      ]
    },
    {
      "cell_type": "code",
      "metadata": {
        "id": "2k2KpfzJMUST",
        "outputId": "3dbde1a3-ff58-4a4b-b22c-7c47ea332aeb"
      },
      "source": [
        "friends[0][1]"
      ],
      "execution_count": null,
      "outputs": [
        {
          "output_type": "execute_result",
          "data": {
            "text/plain": [
              "'2'"
            ]
          },
          "metadata": {
            "tags": []
          },
          "execution_count": 180
        }
      ]
    },
    {
      "cell_type": "markdown",
      "metadata": {
        "id": "GuygMtKPMUSU"
      },
      "source": [
        "### Capturing groups\n",
        "Immediately to the left\n",
        "\n",
        "r\"apple+\" : + applies to e and not to apple\n",
        "\n",
        "### Apply a quantifier to the entire group"
      ]
    },
    {
      "cell_type": "code",
      "metadata": {
        "id": "7A7vUgfDMUSU",
        "outputId": "d5e92cf3-907a-47d2-f0ed-33870830bebc"
      },
      "source": [
        "re.search(r\"(\\d[A-Za-z])+\", \"My user name is 3e4r5fg\")"
      ],
      "execution_count": null,
      "outputs": [
        {
          "output_type": "execute_result",
          "data": {
            "text/plain": [
              "<re.Match object; span=(16, 22), match='3e4r5f'>"
            ]
          },
          "metadata": {
            "tags": []
          },
          "execution_count": 181
        }
      ]
    },
    {
      "cell_type": "code",
      "metadata": {
        "id": "VFJsTckJMUSU",
        "outputId": "f3c070c7-d823-4537-d217-eff1e4e21b0d"
      },
      "source": [
        "re.findall(r\"(\\d[A-Za-z].+)\", \"My user name is 3e4r5fg\")"
      ],
      "execution_count": null,
      "outputs": [
        {
          "output_type": "execute_result",
          "data": {
            "text/plain": [
              "['3e4r5fg']"
            ]
          },
          "metadata": {
            "tags": []
          },
          "execution_count": 193
        }
      ]
    },
    {
      "cell_type": "code",
      "metadata": {
        "id": "SVk7q0ltMUSU",
        "outputId": "d24440eb-0dca-40c7-9e78-dad17b0b3850"
      },
      "source": [
        "re.findall(r\"(\\d[A-Za-z])+\", \"My user name is 3e4r5fg\")"
      ],
      "execution_count": null,
      "outputs": [
        {
          "output_type": "execute_result",
          "data": {
            "text/plain": [
              "['5f']"
            ]
          },
          "metadata": {
            "tags": []
          },
          "execution_count": 188
        }
      ]
    },
    {
      "cell_type": "markdown",
      "metadata": {
        "id": "mewwbs05MUSU"
      },
      "source": [
        "### <font color='green'> difference between Capture a repeated group (\\d+) vs. repeat a capturing group (\\d)+ </font>"
      ]
    },
    {
      "cell_type": "code",
      "metadata": {
        "id": "MP7OUcEiMUSU",
        "outputId": "d8688631-08c3-4955-9169-82d4e15b441c"
      },
      "source": [
        "'''the out put is only 5 and three because the captured partern\n",
        "is looking for a digit that repeates one or more times'''\n",
        "\n",
        "my_string = \"My lucky numbers are 8755 and 33\"\n",
        "re.findall(r\"(\\d)+\", my_string)"
      ],
      "execution_count": null,
      "outputs": [
        {
          "output_type": "execute_result",
          "data": {
            "text/plain": [
              "['5', '3']"
            ]
          },
          "metadata": {
            "tags": []
          },
          "execution_count": 191
        }
      ]
    },
    {
      "cell_type": "code",
      "metadata": {
        "id": "qwtgwVGBMUSV",
        "outputId": "243c3597-1403-4d32-a499-24c0d066d6bf"
      },
      "source": [
        "''' The pattern is looking for numbers then all the numbers are \n",
        "going to be captured together'''\n",
        "re.findall(r\"(\\d+)\", my_string)"
      ],
      "execution_count": null,
      "outputs": [
        {
          "output_type": "execute_result",
          "data": {
            "text/plain": [
              "['8755', '33']"
            ]
          },
          "metadata": {
            "tags": []
          },
          "execution_count": 194
        }
      ]
    },
    {
      "cell_type": "markdown",
      "metadata": {
        "id": "ZYZ-gS0jMUSV"
      },
      "source": [
        "### Looking for patterns: re.search and re.match \n",
        "#### They will find the index related to the pattern"
      ]
    },
    {
      "cell_type": "code",
      "metadata": {
        "id": "_3qjlcLAMUSV",
        "outputId": "51c1bed2-18bf-444e-bab7-861965010792"
      },
      "source": [
        "re.search(r\"\\d{4}\", \"4506 people attend the show\")"
      ],
      "execution_count": null,
      "outputs": [
        {
          "output_type": "execute_result",
          "data": {
            "text/plain": [
              "<re.Match object; span=(0, 4), match='4506'>"
            ]
          },
          "metadata": {
            "tags": []
          },
          "execution_count": 154
        }
      ]
    },
    {
      "cell_type": "code",
      "metadata": {
        "id": "AW3fbwQrMUSV",
        "outputId": "d42bf7fe-e3a9-43b6-bd3a-af853250badb"
      },
      "source": [
        "re.search(r\"\\d+\", \"Yesterday, I saw 3 shows\")"
      ],
      "execution_count": null,
      "outputs": [
        {
          "output_type": "execute_result",
          "data": {
            "text/plain": [
              "<re.Match object; span=(17, 18), match='3'>"
            ]
          },
          "metadata": {
            "tags": []
          },
          "execution_count": 155
        }
      ]
    },
    {
      "cell_type": "code",
      "metadata": {
        "id": "rJT_UbPtMUSV",
        "outputId": "91f8df70-ba09-446e-dacf-d091659b9018"
      },
      "source": [
        "re.match(r\"\\d{4}\", \"4506 people attend the show\")"
      ],
      "execution_count": null,
      "outputs": [
        {
          "output_type": "execute_result",
          "data": {
            "text/plain": [
              "<re.Match object; span=(0, 4), match='4506'>"
            ]
          },
          "metadata": {
            "tags": []
          },
          "execution_count": 156
        }
      ]
    },
    {
      "cell_type": "code",
      "metadata": {
        "id": "MisK7u5-MUSV"
      },
      "source": [
        "#Be carefull about this one: Match =None !!!!\n",
        "re.match(r\"\\d+\",\"Yesterday, I saw 3 shows\")"
      ],
      "execution_count": null,
      "outputs": []
    },
    {
      "cell_type": "markdown",
      "metadata": {
        "id": "8ahIzX8hMUSW"
      },
      "source": [
        "## Lookaround\n",
        "Allow us to confirm that sub-pattern is ahead or behind main pattern\n",
        "\n",
        "At my current position in the matching process, look ahead or behind and examine whether some pattern macthes or not match before continuing.\n",
        "\n",
        "- lookaround is a non-capturing group \n",
        "- checks that the first part of the expression is followed or not by the lookahead expression \n",
        "- Return only the first part of the expression "
      ]
    },
    {
      "cell_type": "markdown",
      "metadata": {
        "id": "fOXhOLO2MUSW"
      },
      "source": [
        "### Positive look-ahead ?="
      ]
    },
    {
      "cell_type": "markdown",
      "metadata": {
        "id": "_HNp7uAWMUSW"
      },
      "source": [
        "Example:position is on the cat \n",
        "\n",
        "    the white cat sat on the chair \n",
        "    \n",
        "Positive (?=sat)                 \n",
        "negative (?!run)"
      ]
    },
    {
      "cell_type": "code",
      "metadata": {
        "id": "BuAzXDyrMUSW",
        "outputId": "d80d5495-0ad8-479e-d928-3dc6bdf6de5c"
      },
      "source": [
        "# we want only the txt files that followed by word transferred\n",
        "my_text = \"tweets.txt transferred, mypass.txt transferred, keywords.txt error\"\n",
        "re.findall(r\"\\w+\\.txt(?=\\stransferred)\", my_text)"
      ],
      "execution_count": null,
      "outputs": [
        {
          "output_type": "execute_result",
          "data": {
            "text/plain": [
              "['tweets.txt', 'mypass.txt']"
            ]
          },
          "metadata": {
            "tags": []
          },
          "execution_count": 222
        }
      ]
    },
    {
      "cell_type": "markdown",
      "metadata": {
        "id": "tHMoPGxVMUSW"
      },
      "source": [
        "### Negative look-ahead ?!"
      ]
    },
    {
      "cell_type": "code",
      "metadata": {
        "id": "AhmXOu0ZMUSW",
        "outputId": "e0203084-7dcf-4dc3-cbd2-397c0abc67de"
      },
      "source": [
        "my_text = \"tweets.txt transferred, mypass.txt transferred, keywords.txt error\"\n",
        "re.findall(r\"\\w+\\.txt(?!\\stransferred)\", my_text)"
      ],
      "execution_count": null,
      "outputs": [
        {
          "output_type": "execute_result",
          "data": {
            "text/plain": [
              "['keywords.txt']"
            ]
          },
          "metadata": {
            "tags": []
          },
          "execution_count": 228
        }
      ]
    },
    {
      "cell_type": "markdown",
      "metadata": {
        "id": "NeyYwvJEMUSX"
      },
      "source": [
        "## Look-behind"
      ]
    },
    {
      "cell_type": "markdown",
      "metadata": {
        "id": "GtKgkLQJMUSX"
      },
      "source": [
        "### Positive look-behind ?<"
      ]
    },
    {
      "cell_type": "code",
      "metadata": {
        "id": "ShILRXYcMUSX",
        "outputId": "d7083cdd-5467-439f-d2dd-fb75f164cee8"
      },
      "source": [
        "my_text = \"Member: Angus Young, Member: Chris Slade, Past: Malcolm Young, Past: Cliff Williams.\"\n",
        "re.findall(r\"(?<=Member:\\s)\\w+\\s\\w+\", my_text)"
      ],
      "execution_count": null,
      "outputs": [
        {
          "output_type": "execute_result",
          "data": {
            "text/plain": [
              "['Angus Young', 'Chris Slade']"
            ]
          },
          "metadata": {
            "tags": []
          },
          "execution_count": 229
        }
      ]
    },
    {
      "cell_type": "code",
      "metadata": {
        "id": "876fwuE8MUSX"
      },
      "source": [
        "# Example:\n",
        "# Positive lookbehind\n",
        "look_behind = re.findall(r\"(?<=[Pp]ython\\s)\\w+\", sentiment_analysis)\n",
        "\n",
        "# Print out\n",
        "print(look_behind)"
      ],
      "execution_count": null,
      "outputs": []
    },
    {
      "cell_type": "markdown",
      "metadata": {
        "id": "uYFledqZMUSX"
      },
      "source": [
        "### Negative look-behind ?<"
      ]
    },
    {
      "cell_type": "code",
      "metadata": {
        "id": "6TlBvHXvMUSX",
        "outputId": "2f85e508-625d-4e26-db05-6cb564a6e6e9"
      },
      "source": [
        "my_text = \"My white cat sat at the table. However, my brown dog was lying on the couch.\"\n",
        "re.findall(r\"(?<!brown\\s)(cat|dog)\", my_text)"
      ],
      "execution_count": null,
      "outputs": [
        {
          "output_type": "execute_result",
          "data": {
            "text/plain": [
              "['cat']"
            ]
          },
          "metadata": {
            "tags": []
          },
          "execution_count": 230
        }
      ]
    }
  ]
}