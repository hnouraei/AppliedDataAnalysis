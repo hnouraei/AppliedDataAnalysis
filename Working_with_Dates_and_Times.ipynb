{
  "nbformat": 4,
  "nbformat_minor": 5,
  "metadata": {
    "gist": {
      "data": {
        "description": "Working_with_Dates_and_Times.ipynb",
        "public": false
      },
      "id": ""
    },
    "kernelspec": {
      "display_name": "Python 3",
      "language": "python",
      "name": "python3"
    },
    "language_info": {
      "codemirror_mode": {
        "name": "ipython",
        "version": 3
      },
      "file_extension": ".py",
      "mimetype": "text/x-python",
      "name": "python",
      "nbconvert_exporter": "python",
      "pygments_lexer": "ipython3",
      "version": "3.7.7"
    },
    "toc": {
      "base_numbering": 1,
      "nav_menu": {},
      "number_sections": true,
      "sideBar": true,
      "skip_h1_title": false,
      "title_cell": "Table of Contents",
      "title_sidebar": "Contents",
      "toc_cell": false,
      "toc_position": {
        "height": "calc(100% - 180px)",
        "left": "10px",
        "top": "150px",
        "width": "312.188px"
      },
      "toc_section_display": true,
      "toc_window_display": true
    },
    "varInspector": {
      "cols": {
        "lenName": 16,
        "lenType": 16,
        "lenVar": 40
      },
      "kernels_config": {
        "python": {
          "delete_cmd_postfix": "",
          "delete_cmd_prefix": "del ",
          "library": "var_list.py",
          "varRefreshCmd": "print(var_dic_list())"
        },
        "r": {
          "delete_cmd_postfix": ") ",
          "delete_cmd_prefix": "rm(",
          "library": "var_list.r",
          "varRefreshCmd": "cat(var_dic_list()) "
        }
      },
      "types_to_exclude": [
        "module",
        "function",
        "builtin_function_or_method",
        "instance",
        "_Feature"
      ],
      "window_display": false
    },
    "colab": {
      "name": "Working_with_Dates_and_Times.ipynb",
      "provenance": [],
      "toc_visible": true,
      "include_colab_link": true
    }
  },
  "cells": [
    {
      "cell_type": "markdown",
      "metadata": {
        "id": "view-in-github",
        "colab_type": "text"
      },
      "source": [
        "<a href=\"https://colab.research.google.com/github/hnouraei/AppliedDataAnalysis/blob/master/Working_with_Dates_and_Times.ipynb\" target=\"_parent\"><img src=\"https://colab.research.google.com/assets/colab-badge.svg\" alt=\"Open In Colab\"/></a>"
      ]
    },
    {
      "cell_type": "markdown",
      "metadata": {
        "id": "premium-parameter"
      },
      "source": [
        "# Dates and Calendars "
      ],
      "id": "premium-parameter"
    },
    {
      "cell_type": "markdown",
      "metadata": {
        "id": "grateful-characteristic"
      },
      "source": [
        "Dates has a special class in python similart to numbers or strings \n"
      ],
      "id": "grateful-characteristic"
    },
    {
      "cell_type": "markdown",
      "metadata": {
        "id": "injured-deviation"
      },
      "source": [
        "Recap: Dates and Calendars\n",
        "The date() class takes a year, month, and day as arguments\n",
        "A date object has accessors like .year , and also methods like .weekday()\n",
        "date objects can be compared like numbers, using min() , max() , and sort()\n",
        "You can subtract one date from another to get a timedelta\n",
        "To turn date objects into strings, use the .isoformat() or .strftime() methods\n",
        "\n",
        "Recap: Combining Dates and Times\n",
        "The datetime() class takes all the arguments of date() , plus an hour, minute, second, and\n",
        "microsecond\n",
        "All of the additional arguments are optional; otherwise, they're set to zero by default\n",
        "You can replace any value in a datetime with the .replace() method\n",
        "Convert a timedelta into an integer with its .total_seconds() method\n",
        "Turn strings into dates with .strptime() and dates into strings with .strftime()\n",
        "\n",
        "Recap: Timezones and Daylight Saving\n",
        "A datetime is \"timezone aware\" when it has its tzinfo set. Otherwise it is \"timezone\n",
        "naive\"\n",
        "Setting a timezone tells a datetime how to align itself to UTC, the universal time standard \n",
        "use the .replace() method to change the timezone of a datetime, leaving the date and time the same \n",
        "use the .astimezone() method to shift the date and time to match the new timezone \n",
        "dateutil.tz provides a comprehensive, updated timezone database \n",
        "\n",
        "Recap: Easy and Powerful Timestamps in Pandas\n",
        "When reading a csv, set the parse_dates argument to be the list of columns which should\n",
        "be parsed as datetimes\n",
        "If setting parse_dates doesnot work, use the pd.to_datetime() function \n",
        "grouping rows with .groupby lets you calculate aggregates per group. For example .first(),.min() or .mean()\n",
        ".resample() groups rows on the basis of a datetime column, by year, month, day, and so on \n",
        "use .tz_localize() to set a timezone, keeping the date and time the same \n",
        "use .tz_convert to change the date and time to match a new timezone "
      ],
      "id": "injured-deviation"
    },
    {
      "cell_type": "markdown",
      "metadata": {
        "id": "painful-developer"
      },
      "source": [
        "## Creating date objects, datetime.date()"
      ],
      "id": "painful-developer"
    },
    {
      "cell_type": "code",
      "metadata": {
        "ExecuteTime": {
          "end_time": "2021-02-23T14:24:39.637469Z",
          "start_time": "2021-02-23T14:24:39.619589Z"
        },
        "id": "sized-istanbul",
        "outputId": "dfcd0835-fa45-4958-e013-fc63db9f7b59"
      },
      "source": [
        "# Import date \n",
        "from datetime import date\n",
        "# Create dates \n",
        "two_hurricanes_dates = [date(2016,10,7), date(2017, 6,21)]\n",
        "\n",
        "print (two_hurricanes_dates)"
      ],
      "id": "sized-istanbul",
      "execution_count": null,
      "outputs": [
        {
          "output_type": "stream",
          "text": [
            "[datetime.date(2016, 10, 7), datetime.date(2017, 6, 21)]\n"
          ],
          "name": "stdout"
        }
      ]
    },
    {
      "cell_type": "markdown",
      "metadata": {
        "id": "established-green"
      },
      "source": [
        "## Attributes of a date (year,month, day)"
      ],
      "id": "established-green"
    },
    {
      "cell_type": "code",
      "metadata": {
        "ExecuteTime": {
          "end_time": "2021-02-24T21:15:46.255876Z",
          "start_time": "2021-02-24T21:15:46.241349Z"
        },
        "id": "secure-ethiopia",
        "outputId": "78d59960-88d9-4367-ba3f-f531543c1eab"
      },
      "source": [
        "# Import date\n",
        "from datetime import date\n",
        "# Create dates\n",
        "two_hurricanes_dates = [date(2016, 10, 7), date(2017, 6, 21)]\n",
        "print(two_hurricanes_dates[0].year)\n",
        "print(two_hurricanes_dates[0].month)\n",
        "print(two_hurricanes_dates[0].day)"
      ],
      "id": "secure-ethiopia",
      "execution_count": null,
      "outputs": [
        {
          "output_type": "stream",
          "text": [
            "2016\n",
            "10\n",
            "7\n"
          ],
          "name": "stdout"
        }
      ]
    },
    {
      "cell_type": "markdown",
      "metadata": {
        "id": "smaller-appearance"
      },
      "source": [
        "## Finding the weekday of a date"
      ],
      "id": "smaller-appearance"
    },
    {
      "cell_type": "code",
      "metadata": {
        "ExecuteTime": {
          "end_time": "2021-02-25T15:01:45.500197Z",
          "start_time": "2021-02-25T15:01:45.486901Z"
        },
        "id": "defined-background",
        "outputId": "353b213d-b255-4562-c663-765dbf4a01a5"
      },
      "source": [
        "print(two_hurricanes_dates[0].weekday())"
      ],
      "id": "defined-background",
      "execution_count": null,
      "outputs": [
        {
          "output_type": "stream",
          "text": [
            "4\n"
          ],
          "name": "stdout"
        }
      ]
    },
    {
      "cell_type": "markdown",
      "metadata": {
        "id": "thirty-arrival"
      },
      "source": [
        "## strftime() Method for formatting date objects into readable strings"
      ],
      "id": "thirty-arrival"
    },
    {
      "cell_type": "markdown",
      "metadata": {
        "id": "aquatic-diploma"
      },
      "source": [
        "### Note: A reference of all the legal format codes:\n",
        "\n",
        "https://www.w3schools.com/python/python_datetime.asp"
      ],
      "id": "aquatic-diploma"
    },
    {
      "cell_type": "code",
      "metadata": {
        "ExecuteTime": {
          "end_time": "2021-02-25T15:19:37.211240Z",
          "start_time": "2021-02-25T15:19:37.194164Z"
        },
        "id": "previous-portrait",
        "outputId": "33874b4c-1cd1-46cc-e34a-72ddf2be07ed"
      },
      "source": [
        "print (date(2016, 10, 7).strftime(\"%B\"))"
      ],
      "id": "previous-portrait",
      "execution_count": null,
      "outputs": [
        {
          "output_type": "stream",
          "text": [
            "October\n"
          ],
          "name": "stdout"
        }
      ]
    },
    {
      "cell_type": "markdown",
      "metadata": {
        "id": "enhanced-suggestion"
      },
      "source": [
        "## Math with Dates"
      ],
      "id": "enhanced-suggestion"
    },
    {
      "cell_type": "code",
      "metadata": {
        "id": "raising-floor"
      },
      "source": [
        "# Import date\n",
        "from datetime import date\n",
        "# Create our dates\n",
        "d1 = date(2017, 11, 5)\n",
        "d2 = date(2017, 12, 4)\n",
        "l = [d1, d2]\n",
        "\n",
        "print(min(l))\n",
        "\n",
        "2017-11-05"
      ],
      "id": "raising-floor",
      "execution_count": null,
      "outputs": []
    },
    {
      "cell_type": "code",
      "metadata": {
        "id": "amazing-insertion"
      },
      "source": [
        "# Subtract two dates\n",
        "delta = d2 - d1\n",
        "\n",
        "print(delta.days)\n",
        "29"
      ],
      "id": "amazing-insertion",
      "execution_count": null,
      "outputs": []
    },
    {
      "cell_type": "markdown",
      "metadata": {
        "id": "metropolitan-antarctica"
      },
      "source": [
        "### timedelta function"
      ],
      "id": "metropolitan-antarctica"
    },
    {
      "cell_type": "code",
      "metadata": {
        "ExecuteTime": {
          "end_time": "2021-02-25T15:46:43.268905Z",
          "start_time": "2021-02-25T15:46:43.254884Z"
        },
        "id": "monthly-pickup",
        "outputId": "6375f867-4582-4847-9159-6aec420a84f7"
      },
      "source": [
        "# timedelta function \n",
        "from datetime import timedelta, date \n",
        "\n",
        "d1 = date(2017, 11, 5)\n",
        "# create a 29 day timedelta \n",
        "td= timedelta (days=29)\n",
        "print(d1+td)"
      ],
      "id": "monthly-pickup",
      "execution_count": null,
      "outputs": [
        {
          "output_type": "stream",
          "text": [
            "2017-12-04\n"
          ],
          "name": "stdout"
        }
      ]
    },
    {
      "cell_type": "markdown",
      "metadata": {
        "id": "greek-albany"
      },
      "source": [
        "# Turning dates into strings"
      ],
      "id": "greek-albany"
    },
    {
      "cell_type": "markdown",
      "metadata": {
        "id": "historic-sailing"
      },
      "source": [
        "## ISO 8601 format"
      ],
      "id": "historic-sailing"
    },
    {
      "cell_type": "code",
      "metadata": {
        "ExecuteTime": {
          "end_time": "2021-02-25T16:00:22.360110Z",
          "start_time": "2021-02-25T16:00:22.345057Z"
        },
        "id": "monthly-supplier",
        "outputId": "9dc2e06a-6587-4520-9644-a1ae782474c4"
      },
      "source": [
        "from datetime import date\n",
        "# Example date\n",
        "d = date(2017, 11, 5)\n",
        "# ISO format: YYYY-MM-DD\n",
        "print(d)"
      ],
      "id": "monthly-supplier",
      "execution_count": null,
      "outputs": [
        {
          "output_type": "stream",
          "text": [
            "2017-11-05\n"
          ],
          "name": "stdout"
        }
      ]
    },
    {
      "cell_type": "code",
      "metadata": {
        "ExecuteTime": {
          "end_time": "2021-02-25T16:00:57.430765Z",
          "start_time": "2021-02-25T16:00:57.423240Z"
        },
        "id": "domestic-jordan",
        "outputId": "f1768047-db32-4337-c5f0-013a5e13a8f8"
      },
      "source": [
        "# Express the date in ISO 8601 format and put it in a list\n",
        "print( [d.isoformat()] )"
      ],
      "id": "domestic-jordan",
      "execution_count": null,
      "outputs": [
        {
          "output_type": "stream",
          "text": [
            "['2017-11-05']\n"
          ],
          "name": "stdout"
        }
      ]
    },
    {
      "cell_type": "code",
      "metadata": {
        "ExecuteTime": {
          "end_time": "2021-02-25T16:01:22.122324Z",
          "start_time": "2021-02-25T16:01:22.104778Z"
        },
        "id": "competitive-jersey",
        "outputId": "28056a67-8581-44f5-b313-a9a003d4fc42"
      },
      "source": [
        "# A few dates that computers once had trouble with\n",
        "some_dates = ['2000-01-01', '1999-12-31']\n",
        "# Print them in order\n",
        "print(sorted(some_dates))"
      ],
      "id": "competitive-jersey",
      "execution_count": null,
      "outputs": [
        {
          "output_type": "stream",
          "text": [
            "['1999-12-31', '2000-01-01']\n"
          ],
          "name": "stdout"
        }
      ]
    },
    {
      "cell_type": "markdown",
      "metadata": {
        "id": "comic-merchant"
      },
      "source": [
        "## Every other format except ISO 8601 using .strftime() method "
      ],
      "id": "comic-merchant"
    },
    {
      "cell_type": "markdown",
      "metadata": {
        "id": "wound-framework"
      },
      "source": [
        "### Note: with strftime() method, format should be specified \"%Y %m %d\" or \"%B\" ,..."
      ],
      "id": "wound-framework"
    },
    {
      "cell_type": "code",
      "metadata": {
        "ExecuteTime": {
          "end_time": "2021-02-25T16:07:23.734786Z",
          "start_time": "2021-02-25T16:07:23.710279Z"
        },
        "id": "failing-bosnia",
        "outputId": "7f6bf4ba-2f69-4a16-da6b-18c3fbb4b4c9"
      },
      "source": [
        "# Example: \n",
        "d = date(2017, 11, 5)\n",
        "d.strftime (\"%Y %m %d\")"
      ],
      "id": "failing-bosnia",
      "execution_count": null,
      "outputs": [
        {
          "output_type": "execute_result",
          "data": {
            "text/plain": [
              "'2017 11 05'"
            ]
          },
          "metadata": {
            "tags": []
          },
          "execution_count": 15
        }
      ]
    },
    {
      "cell_type": "code",
      "metadata": {
        "ExecuteTime": {
          "end_time": "2021-02-25T16:04:05.907296Z",
          "start_time": "2021-02-25T16:04:05.901321Z"
        },
        "id": "smoking-monthly",
        "outputId": "dee17bf5-eb7e-47ec-c104-c2c5fe09a652"
      },
      "source": [
        "# Example date\n",
        "d = date(2017, 1, 5)\n",
        "print(d.strftime(\"%Y\"))"
      ],
      "id": "smoking-monthly",
      "execution_count": null,
      "outputs": [
        {
          "output_type": "stream",
          "text": [
            "2017\n"
          ],
          "name": "stdout"
        }
      ]
    },
    {
      "cell_type": "code",
      "metadata": {
        "ExecuteTime": {
          "end_time": "2021-02-25T16:04:12.980684Z",
          "start_time": "2021-02-25T16:04:12.971176Z"
        },
        "id": "excess-address",
        "outputId": "ee821597-9dce-4f11-a3ea-bc34f0492441"
      },
      "source": [
        "# Format string with more text in it\n",
        "print(d.strftime(\"Year is %Y\"))"
      ],
      "id": "excess-address",
      "execution_count": null,
      "outputs": [
        {
          "output_type": "stream",
          "text": [
            "Year is 2017\n"
          ],
          "name": "stdout"
        }
      ]
    },
    {
      "cell_type": "markdown",
      "metadata": {
        "id": "ranking-stroke"
      },
      "source": [
        "# Combining Dates and Times "
      ],
      "id": "ranking-stroke"
    },
    {
      "cell_type": "markdown",
      "metadata": {
        "id": "ancient-peace"
      },
      "source": [
        "## Adding time to the mix"
      ],
      "id": "ancient-peace"
    },
    {
      "cell_type": "code",
      "metadata": {
        "ExecuteTime": {
          "end_time": "2021-02-25T17:52:23.275815Z",
          "start_time": "2021-02-25T17:52:23.263510Z"
        },
        "id": "empty-finnish",
        "outputId": "b7baf3f3-ac6a-46dc-b233-7bdc28699ed6"
      },
      "source": [
        "# Import datetime, computer time is in 24 hours. 500000 is in micro seconds which is going to be 0.5 seconds. \n",
        "from datetime import datetime\n",
        "dt = datetime(2017, 10, 1, 15, 23, 25, 500000)\n",
        "dt"
      ],
      "id": "empty-finnish",
      "execution_count": null,
      "outputs": [
        {
          "output_type": "execute_result",
          "data": {
            "text/plain": [
              "datetime.datetime(2017, 10, 1, 15, 23, 25, 500000)"
            ]
          },
          "metadata": {
            "tags": []
          },
          "execution_count": 18
        }
      ]
    },
    {
      "cell_type": "code",
      "metadata": {
        "ExecuteTime": {
          "end_time": "2021-02-25T17:54:37.069115Z",
          "start_time": "2021-02-25T17:54:37.060017Z"
        },
        "id": "corresponding-costs"
      },
      "source": [
        "# Import datetime\n",
        "from datetime import datetime\n",
        "dt = datetime(year=2017,\n",
        "              month=10,\n",
        "              day=1,\n",
        "              hour=15,\n",
        "              minute=23,\n",
        "              second=25,\n",
        "              microsecond=500000)"
      ],
      "id": "corresponding-costs",
      "execution_count": null,
      "outputs": []
    },
    {
      "cell_type": "markdown",
      "metadata": {
        "id": "arabic-metro"
      },
      "source": [
        "## Replacing parts of a datetime"
      ],
      "id": "arabic-metro"
    },
    {
      "cell_type": "code",
      "metadata": {
        "ExecuteTime": {
          "end_time": "2021-02-25T18:39:22.876043Z",
          "start_time": "2021-02-25T18:39:22.864051Z"
        },
        "id": "focal-education",
        "outputId": "4ffefc47-d7b8-459e-997a-aa53a7eafc84"
      },
      "source": [
        "dt_hr = dt.replace(minute=0, second=0, microsecond=0)\n",
        "print(dt_hr)"
      ],
      "id": "focal-education",
      "execution_count": null,
      "outputs": [
        {
          "output_type": "stream",
          "text": [
            "2017-10-01 15:00:00\n"
          ],
          "name": "stdout"
        }
      ]
    },
    {
      "cell_type": "markdown",
      "metadata": {
        "id": "floral-inflation"
      },
      "source": [
        "## Printing and parsing datetimes"
      ],
      "id": "floral-inflation"
    },
    {
      "cell_type": "code",
      "metadata": {
        "ExecuteTime": {
          "end_time": "2021-02-26T14:44:22.189931Z",
          "start_time": "2021-02-26T14:44:22.174766Z"
        },
        "id": "practical-request",
        "outputId": "7c74d60f-3762-4298-bb3c-8de921b39e0e"
      },
      "source": [
        "# Create datetime\n",
        "dt = datetime(2017, 12, 30, 15, 19, 13)\n",
        "print(dt.strftime(\"%Y-%m-%d\"))"
      ],
      "id": "practical-request",
      "execution_count": null,
      "outputs": [
        {
          "output_type": "stream",
          "text": [
            "2017-12-30\n"
          ],
          "name": "stdout"
        }
      ]
    },
    {
      "cell_type": "code",
      "metadata": {
        "ExecuteTime": {
          "end_time": "2021-02-26T14:44:23.115494Z",
          "start_time": "2021-02-26T14:44:23.108495Z"
        },
        "id": "closing-cartridge",
        "outputId": "a85ec315-6472-49ca-96be-82a21ee0c82e"
      },
      "source": [
        "print(dt.strftime(\"%Y-%m-%d %H:%M:%S\"))"
      ],
      "id": "closing-cartridge",
      "execution_count": null,
      "outputs": [
        {
          "output_type": "stream",
          "text": [
            "2017-12-30 15:19:13\n"
          ],
          "name": "stdout"
        }
      ]
    },
    {
      "cell_type": "markdown",
      "metadata": {
        "id": "surface-sharp"
      },
      "source": [
        "### ISO 8601 Format"
      ],
      "id": "surface-sharp"
    },
    {
      "cell_type": "code",
      "metadata": {
        "ExecuteTime": {
          "end_time": "2021-02-26T14:45:12.405303Z",
          "start_time": "2021-02-26T14:45:12.387240Z"
        },
        "id": "stunning-excellence",
        "outputId": "c9458bc9-17e2-430c-d061-f4bfb24ad08c"
      },
      "source": [
        "# ISO 8601 format\n",
        "print(dt.isoformat())"
      ],
      "id": "stunning-excellence",
      "execution_count": null,
      "outputs": [
        {
          "output_type": "stream",
          "text": [
            "2017-12-30T15:19:13\n"
          ],
          "name": "stdout"
        }
      ]
    },
    {
      "cell_type": "markdown",
      "metadata": {
        "id": "deadly-receipt"
      },
      "source": [
        "### datetimes from string"
      ],
      "id": "deadly-receipt"
    },
    {
      "cell_type": "markdown",
      "metadata": {
        "id": "integral-removal"
      },
      "source": [
        "#### .strptime()\n",
        "\n",
        "Note: \n",
        "we need the exact match to do string conversion, otherwise it generates error. if it has /,:,- we should include them. "
      ],
      "id": "integral-removal"
    },
    {
      "cell_type": "code",
      "metadata": {
        "ExecuteTime": {
          "end_time": "2021-02-26T14:47:08.542444Z",
          "start_time": "2021-02-26T14:47:08.533438Z"
        },
        "id": "collectible-convergence",
        "outputId": "07e26e7c-e8eb-46c4-beb4-7297ccdf3664"
      },
      "source": [
        "# Import datetime\n",
        "from datetime import datetime\n",
        "dt = datetime.strptime(\"12/30/2017 15:19:13\",\n",
        "\"%m/%d/%Y %H:%M:%S\")\n",
        "print(dt)"
      ],
      "id": "collectible-convergence",
      "execution_count": null,
      "outputs": [
        {
          "output_type": "stream",
          "text": [
            "2017-12-30 15:19:13\n"
          ],
          "name": "stdout"
        }
      ]
    },
    {
      "cell_type": "markdown",
      "metadata": {
        "id": "severe-handy"
      },
      "source": [
        "## Parsing datetimes from timestamp"
      ],
      "id": "severe-handy"
    },
    {
      "cell_type": "code",
      "metadata": {
        "ExecuteTime": {
          "end_time": "2021-02-26T15:07:17.921036Z",
          "start_time": "2021-02-26T15:07:17.911036Z"
        },
        "id": "differential-browser",
        "outputId": "1add9c36-7307-4375-830b-551326739b8d"
      },
      "source": [
        "# A timestamp (unix time stap)\n",
        "\n",
        "ts = 1514665153.0\n",
        "# Convert to datetime and print\n",
        "print(datetime.fromtimestamp(ts))"
      ],
      "id": "differential-browser",
      "execution_count": null,
      "outputs": [
        {
          "output_type": "stream",
          "text": [
            "2017-12-30 15:19:13\n"
          ],
          "name": "stdout"
        }
      ]
    },
    {
      "cell_type": "markdown",
      "metadata": {
        "id": "bridal-stress"
      },
      "source": [
        "# Working with durations"
      ],
      "id": "bridal-stress"
    },
    {
      "cell_type": "code",
      "metadata": {
        "ExecuteTime": {
          "end_time": "2021-02-26T20:39:17.357793Z",
          "start_time": "2021-02-26T20:39:17.352210Z"
        },
        "id": "pressed-apartment"
      },
      "source": [
        "# Create example datetimes\n",
        "start = datetime(2017, 10, 8, 23, 46, 47)\n",
        "end = datetime(2017, 10, 9, 0, 10, 57)\n",
        "# Subtract datetimes to create a timedelta\n",
        "duration = end - start"
      ],
      "id": "pressed-apartment",
      "execution_count": null,
      "outputs": []
    },
    {
      "cell_type": "code",
      "metadata": {
        "ExecuteTime": {
          "end_time": "2021-02-26T20:39:23.865610Z",
          "start_time": "2021-02-26T20:39:23.849821Z"
        },
        "id": "unusual-monitor",
        "outputId": "a518de93-d894-4cbf-9937-7f6bea2f7fb1"
      },
      "source": [
        "# Subtract datetimes to create a timedelta\n",
        "print(duration.total_seconds())"
      ],
      "id": "unusual-monitor",
      "execution_count": null,
      "outputs": [
        {
          "output_type": "stream",
          "text": [
            "1450.0\n"
          ],
          "name": "stdout"
        }
      ]
    },
    {
      "cell_type": "markdown",
      "metadata": {
        "id": "assumed-seattle"
      },
      "source": [
        "## Creating timedeltas"
      ],
      "id": "assumed-seattle"
    },
    {
      "cell_type": "code",
      "metadata": {
        "ExecuteTime": {
          "end_time": "2021-02-26T20:42:56.265147Z",
          "start_time": "2021-02-26T20:42:56.259130Z"
        },
        "id": "remarkable-forwarding",
        "outputId": "7805d959-92a1-4ad8-dde1-bf324864948e"
      },
      "source": [
        "# Import timedelta\n",
        "from datetime import timedelta\n",
        "# Create a timedelta\n",
        "delta1 = timedelta(seconds=1)\n",
        "\n",
        "print(start)\n",
        "\n",
        "# One second later\n",
        "print(start + delta1)"
      ],
      "id": "remarkable-forwarding",
      "execution_count": null,
      "outputs": [
        {
          "output_type": "stream",
          "text": [
            "2017-10-08 23:46:47\n",
            "2017-10-08 23:46:48\n"
          ],
          "name": "stdout"
        }
      ]
    },
    {
      "cell_type": "code",
      "metadata": {
        "ExecuteTime": {
          "end_time": "2021-02-26T20:43:13.694006Z",
          "start_time": "2021-02-26T20:43:13.681986Z"
        },
        "id": "classified-symposium",
        "outputId": "689790a4-4bf8-4c89-9cee-be9dfc8e99b6"
      },
      "source": [
        "# Create a one day and one second timedelta\n",
        "delta2 = timedelta(days=1, seconds=1)\n",
        "print(start)\n",
        "\n",
        "# One day and one second later\n",
        "print(start + delta2)\n"
      ],
      "id": "classified-symposium",
      "execution_count": null,
      "outputs": [
        {
          "output_type": "stream",
          "text": [
            "2017-10-08 23:46:47\n",
            "2017-10-09 23:46:48\n"
          ],
          "name": "stdout"
        }
      ]
    },
    {
      "cell_type": "markdown",
      "metadata": {
        "id": "funny-savage"
      },
      "source": [
        "## Negative timedeltas"
      ],
      "id": "funny-savage"
    },
    {
      "cell_type": "code",
      "metadata": {
        "ExecuteTime": {
          "end_time": "2021-02-26T20:44:15.173523Z",
          "start_time": "2021-02-26T20:44:15.161503Z"
        },
        "id": "sound-immune",
        "outputId": "9c8242b9-5d7d-4c13-9024-9592fb4051bb"
      },
      "source": [
        "# Create a negative timedelta of one week\n",
        "delta3 = timedelta(weeks= -1)\n",
        "print(start)\n",
        "\n",
        "# One week earlier\n",
        "print(start + delta3)\n"
      ],
      "id": "sound-immune",
      "execution_count": null,
      "outputs": [
        {
          "output_type": "stream",
          "text": [
            "2017-10-08 23:46:47\n",
            "2017-10-01 23:46:47\n"
          ],
          "name": "stdout"
        }
      ]
    },
    {
      "cell_type": "markdown",
      "metadata": {
        "id": "brilliant-membership"
      },
      "source": [
        "# Time zones and Daylight Saving "
      ],
      "id": "brilliant-membership"
    },
    {
      "cell_type": "markdown",
      "metadata": {
        "id": "separated-farming"
      },
      "source": [
        "## UTC offsets"
      ],
      "id": "separated-farming"
    },
    {
      "cell_type": "code",
      "metadata": {
        "ExecuteTime": {
          "end_time": "2021-03-01T16:13:54.603842Z",
          "start_time": "2021-03-01T16:13:54.590709Z"
        },
        "id": "dangerous-listening",
        "outputId": "318d1c8e-3714-4ce2-bcce-312271c6efe4"
      },
      "source": [
        "# Import relevant classes\n",
        "from datetime import datetime, timedelta, timezone\n",
        "# US Eastern Standard time zone\n",
        "ET = timezone(timedelta(hours=-5))\n",
        "# Timezone-aware datetime\n",
        "dt = datetime(2017, 12, 30, 15, 9, 3, tzinfo = ET)\n",
        "print(dt)"
      ],
      "id": "dangerous-listening",
      "execution_count": null,
      "outputs": [
        {
          "output_type": "stream",
          "text": [
            "2017-12-30 15:09:03-05:00\n"
          ],
          "name": "stdout"
        }
      ]
    },
    {
      "cell_type": "code",
      "metadata": {
        "ExecuteTime": {
          "end_time": "2021-03-01T20:24:40.043828Z",
          "start_time": "2021-03-01T20:24:40.026303Z"
        },
        "id": "local-uganda",
        "outputId": "2f8171a3-3553-4514-f153-7041844a08da"
      },
      "source": [
        "# setting the tzinfo to UTC by using timezone.utc\n",
        "dt = datetime(2017, 12, 30, 15, 9, 3, tzinfo = timezone.utc)\n",
        "print(dt)"
      ],
      "id": "local-uganda",
      "execution_count": null,
      "outputs": [
        {
          "output_type": "stream",
          "text": [
            "2017-12-30 15:09:03+00:00\n"
          ],
          "name": "stdout"
        }
      ]
    },
    {
      "cell_type": "code",
      "metadata": {
        "ExecuteTime": {
          "end_time": "2021-03-01T16:25:51.227872Z",
          "start_time": "2021-03-01T16:25:51.222873Z"
        },
        "id": "becoming-torture",
        "outputId": "db4720d4-0a20-4124-e851-7d48fbbab031"
      },
      "source": [
        "# India Standard time zone\n",
        "IST = timezone(timedelta(hours=5, minutes=30))\n",
        "# Convert to IST\n",
        "print(dt.astimezone(IST))"
      ],
      "id": "becoming-torture",
      "execution_count": null,
      "outputs": [
        {
          "output_type": "stream",
          "text": [
            "2017-12-31 01:39:03+05:30\n"
          ],
          "name": "stdout"
        }
      ]
    },
    {
      "cell_type": "markdown",
      "metadata": {
        "id": "three-conspiracy"
      },
      "source": [
        "### Adjusting timezone vs changing tzinfo"
      ],
      "id": "three-conspiracy"
    },
    {
      "cell_type": "code",
      "metadata": {
        "id": "dying-darkness"
      },
      "source": [
        "print(dt)\n",
        "'2017-12-30 15:09:03-05:00'\n",
        "print(dt.replace(tzinfo=timezone.utc))\n",
        "'2017-12-30 15:09:03+00:00'\n",
        "# Change original to match UTC\n",
        "print(dt.astimezone(timezone.utc))\n",
        "'2017-12-30 20:09:03+00:00'"
      ],
      "id": "dying-darkness",
      "execution_count": null,
      "outputs": []
    },
    {
      "cell_type": "markdown",
      "metadata": {
        "id": "front-control"
      },
      "source": [
        "## UTC Offsets"
      ],
      "id": "front-control"
    },
    {
      "cell_type": "markdown",
      "metadata": {
        "id": "purple-colors"
      },
      "source": [
        "### Time zone database"
      ],
      "id": "purple-colors"
    },
    {
      "cell_type": "code",
      "metadata": {
        "ExecuteTime": {
          "end_time": "2021-03-01T16:30:28.533873Z",
          "start_time": "2021-03-01T16:30:28.413647Z"
        },
        "id": "heavy-fault"
      },
      "source": [
        "# Imports\n",
        "from datetime import datetime\n",
        "from dateutil import tz\n",
        "# Eastern time\n",
        "et = tz.gettz('America/New_York')"
      ],
      "id": "heavy-fault",
      "execution_count": null,
      "outputs": []
    },
    {
      "cell_type": "code",
      "metadata": {
        "ExecuteTime": {
          "end_time": "2021-03-01T16:33:24.439070Z",
          "start_time": "2021-03-01T16:33:24.429978Z"
        },
        "id": "spread-wisconsin",
        "outputId": "deaf7b37-d958-4a7b-83f5-5df8baf13609"
      },
      "source": [
        "# Usaing Time zone database\n",
        "# Last ride\n",
        "last = datetime(2017, 12, 30, 15, 9, 3, tzinfo=et)\n",
        "print(last)"
      ],
      "id": "spread-wisconsin",
      "execution_count": null,
      "outputs": [
        {
          "output_type": "stream",
          "text": [
            "2017-12-30 15:09:03-05:00\n"
          ],
          "name": "stdout"
        }
      ]
    },
    {
      "cell_type": "code",
      "metadata": {
        "ExecuteTime": {
          "end_time": "2021-03-01T16:33:44.656793Z",
          "start_time": "2021-03-01T16:33:44.643715Z"
        },
        "id": "executed-rebound",
        "outputId": "0826162e-85eb-4b6f-a33d-0b69efff5fcf"
      },
      "source": [
        "# Last ride\n",
        "last = datetime(2017, 12, 30, 15, 9, 3, tzinfo=et)\n",
        "print(last)\n",
        "'2017-12-30 15:09:03-05:00'\n",
        "# First ride\n",
        "first = datetime(2017, 10, 1, 15, 23, 25, tzinfo=et)\n",
        "print(first)\n",
        "'2017-10-01 15:23:25-04:00'"
      ],
      "id": "executed-rebound",
      "execution_count": null,
      "outputs": [
        {
          "output_type": "stream",
          "text": [
            "2017-12-30 15:09:03-05:00\n",
            "2017-10-01 15:23:25-04:00\n"
          ],
          "name": "stdout"
        },
        {
          "output_type": "execute_result",
          "data": {
            "text/plain": [
              "'2017-10-01 15:23:25-04:00'"
            ]
          },
          "metadata": {
            "tags": []
          },
          "execution_count": 49
        }
      ]
    },
    {
      "cell_type": "markdown",
      "metadata": {
        "id": "patient-vinyl"
      },
      "source": [
        "## Daylight Saving "
      ],
      "id": "patient-vinyl"
    },
    {
      "cell_type": "markdown",
      "metadata": {
        "id": "funny-cabinet"
      },
      "source": [
        "### Start of Daylight Saving Time "
      ],
      "id": "funny-cabinet"
    },
    {
      "cell_type": "code",
      "metadata": {
        "ExecuteTime": {
          "end_time": "2021-03-01T16:41:43.727856Z",
          "start_time": "2021-03-01T16:41:43.714831Z"
        },
        "id": "persistent-found",
        "outputId": "866b94f8-6d86-4837-d67f-3b337151703d"
      },
      "source": [
        "spring_ahead_159am = datetime(2017, 3, 12, 1, 59, 59)\n",
        "spring_ahead_159am.isoformat()\n",
        "'2017-03-12T01:59:59'\n",
        "spring_ahead_3am = datetime(2017, 3, 12, 3, 0, 0)\n",
        "spring_ahead_3am.isoformat()\n",
        "'2017-03-12T03:00:00'\n",
        "(spring_ahead_3am - spring_ahead_159am).total_seconds()\n",
        "3601"
      ],
      "id": "persistent-found",
      "execution_count": null,
      "outputs": [
        {
          "output_type": "execute_result",
          "data": {
            "text/plain": [
              "3601"
            ]
          },
          "metadata": {
            "tags": []
          },
          "execution_count": 50
        }
      ]
    },
    {
      "cell_type": "code",
      "metadata": {
        "ExecuteTime": {
          "end_time": "2021-03-01T16:43:07.965654Z",
          "start_time": "2021-03-01T16:43:07.953651Z"
        },
        "id": "juvenile-dancing"
      },
      "source": [
        "# Start of Daylight Saving Time\n",
        "from datetime import timezone, timedelta\n",
        "EST = timezone(timedelta(hours=-5))\n",
        "EDT = timezone(timedelta(hours=-4))"
      ],
      "id": "juvenile-dancing",
      "execution_count": null,
      "outputs": []
    },
    {
      "cell_type": "code",
      "metadata": {
        "ExecuteTime": {
          "end_time": "2021-03-01T16:43:25.464659Z",
          "start_time": "2021-03-01T16:43:25.445627Z"
        },
        "id": "naked-startup",
        "outputId": "f06895e3-4a92-4786-d946-d2384a392e2c"
      },
      "source": [
        "# Start of Daylight Saving Time\n",
        "spring_ahead_159am = spring_ahead_159am.replace(tzinfo = EST)\n",
        "spring_ahead_159am.isoformat()\n",
        "'2017-03-12T01:59:59-05:00'\n",
        "spring_ahead_3am = spring_ahead_159am.replace(tzinfo = EDT)\n",
        "spring_ahead_3am.isoformat()\n",
        "'2017-03-12T03:00:00-04:00'\n",
        "(spring_ahead_3am - spring_ahead_159am).seconds"
      ],
      "id": "naked-startup",
      "execution_count": null,
      "outputs": [
        {
          "output_type": "execute_result",
          "data": {
            "text/plain": [
              "82800"
            ]
          },
          "metadata": {
            "tags": []
          },
          "execution_count": 52
        }
      ]
    },
    {
      "cell_type": "code",
      "metadata": {
        "ExecuteTime": {
          "end_time": "2021-03-01T16:46:00.704993Z",
          "start_time": "2021-03-01T16:46:00.697436Z"
        },
        "id": "latest-musical"
      },
      "source": [
        "# Start of Daylight Saving Time instead of manual daytime saving adjusting\n",
        "# Using dateutil\n",
        "# Import tz\n",
        "from dateutil import tz\n",
        "# Create eastern timezone\n",
        "eastern = tz.gettz('America/New_York')\n",
        "# 2017-03-12 01:59:59 in Eastern Time (EST)\n",
        "spring_ahead_159am = datetime(2017, 3, 12, 1, 59, 59,\n",
        "tzinfo = eastern)\n",
        "# 2017-03-12 03:00:00 in Eastern Time (EDT)\n",
        "spring_ahead_3am = datetime(2017, 3, 12, 3, 0, 0,\n",
        "tzinfo = eastern)"
      ],
      "id": "latest-musical",
      "execution_count": null,
      "outputs": []
    },
    {
      "cell_type": "code",
      "metadata": {
        "ExecuteTime": {
          "end_time": "2021-03-01T16:46:53.027660Z",
          "start_time": "2021-03-01T16:46:53.011661Z"
        },
        "id": "mental-possession",
        "outputId": "e40ffca2-6a7d-4a6a-80bf-167848e20fc0"
      },
      "source": [
        "(spring_ahead_3am - spring_ahead_159am).seconds"
      ],
      "id": "mental-possession",
      "execution_count": null,
      "outputs": [
        {
          "output_type": "execute_result",
          "data": {
            "text/plain": [
              "3601"
            ]
          },
          "metadata": {
            "tags": []
          },
          "execution_count": 54
        }
      ]
    },
    {
      "cell_type": "code",
      "metadata": {
        "ExecuteTime": {
          "end_time": "2021-03-01T16:47:13.323556Z",
          "start_time": "2021-03-01T16:47:13.311420Z"
        },
        "id": "instrumental-surface",
        "outputId": "5a0821d8-c8f1-44ce-e73d-8bed81414ae5"
      },
      "source": [
        "(spring_ahead_3am - spring_ahead_159am).total_seconds()"
      ],
      "id": "instrumental-surface",
      "execution_count": null,
      "outputs": [
        {
          "output_type": "execute_result",
          "data": {
            "text/plain": [
              "3601.0"
            ]
          },
          "metadata": {
            "tags": []
          },
          "execution_count": 55
        }
      ]
    },
    {
      "cell_type": "markdown",
      "metadata": {
        "id": "increasing-natural"
      },
      "source": [
        "###  Ending Daylight Saving Time"
      ],
      "id": "increasing-natural"
    },
    {
      "cell_type": "markdown",
      "metadata": {
        "id": "criminal-bridges"
      },
      "source": [
        "dateutil.tz.enfold(dt, fold=1)\n",
        "Provides a unified interface for assigning the fold attribute to datetimes both before and after \n",
        "the implementation of PEP-495.\n",
        "\n",
        "Parameters:\tfold – The value for the fold attribute in the returned datetime. This should be either 0 or 1.\n",
        "Returns:\tReturns an object for which getattr(dt, 'fold', 0) returns fold for all versions of Python. In versions prior to Python 3.6, this is a _DatetimeWithFold object, which is a subclass of datetime.datetime with the fold attribute added, if fold is 1."
      ],
      "id": "criminal-bridges"
    },
    {
      "cell_type": "code",
      "metadata": {
        "ExecuteTime": {
          "end_time": "2021-03-01T16:48:47.874090Z",
          "start_time": "2021-03-01T16:48:47.869093Z"
        },
        "id": "realistic-rocket"
      },
      "source": [
        "eastern = tz.gettz('US/Eastern')\n",
        "# 2017-11-05 01:00:00\n",
        "first_1am = datetime(2017, 11, 5, 1, 0, 0,\n",
        "tzinfo = eastern)\n",
        "tz.datetime_ambiguous(first_1am)\n",
        "True\n",
        "# 2017-11-05 01:00:00 again\n",
        "second_1am = datetime(2017, 11, 5, 1, 0, 0,\n",
        "tzinfo = eastern)\n",
        "#enfold only mark the second daytime because we found that the date time is ambiguous and it is not changing \n",
        "# anything. We must  convert to UTC after that to be un ambiguous. \n",
        "second_1am = tz.enfold(second_1am)"
      ],
      "id": "realistic-rocket",
      "execution_count": null,
      "outputs": []
    },
    {
      "cell_type": "markdown",
      "metadata": {
        "id": "potential-henry"
      },
      "source": [
        "Example: Cleaning daylight saving data with fold\n",
        "As we've just discovered, there is a ride in our data set which is being messed up by a Daylight Savings shift. Let's clean up the data set so we actually have a correct minimum ride length. We can use the fact that we know the end of the ride happened after the beginning to fix up the duration messed up by the shift out of Daylight Savings.\n",
        "\n",
        "Since Python does not handle tz.enfold() when doing arithmetic, we must put our datetime objects into UTC, where ambiguities have been resolved.\n",
        "\n",
        "onebike_datetimes is already loaded and in the right timezone. tz and timezone have been imported. Use tz.UTC for the timezone.\n",
        "\n",
        "Complete the if statement to be true only when a ride's start comes after its end.\n",
        "When start is after end, call tz.enfold() on the end so you know it refers to the one after the daylight savings time change.\n",
        "After the if statement, convert the start and end to UTC so you can make a proper comparison."
      ],
      "id": "potential-henry"
    },
    {
      "cell_type": "code",
      "metadata": {
        "id": "surprised-syria"
      },
      "source": [
        "trip_durations = []\n",
        "for trip in onebike_datetimes:\n",
        "  # When the start is later than the end, set the fold to be 1\n",
        "  if trip['start'] > trip['end']:\n",
        "    trip['end'] = tz.enfold(trip['end'])\n",
        "  # Convert to UTC\n",
        "  start = trip['start'].astimezone(tz.UTC)\n",
        "  end = trip['end'].astimezone(tz.UTC)\n",
        "\n",
        "  # Subtract the difference\n",
        "  trip_length_seconds = (end-start).total_seconds()\n",
        "  trip_durations.append(trip_length_seconds)\n",
        "\n",
        "# Take the shortest trip duration\n",
        "print(\"Shortest trip: \" + str(min(trip_durations)))\n",
        "\n",
        "\n",
        "Shortest trip: 116.0"
      ],
      "id": "surprised-syria",
      "execution_count": null,
      "outputs": []
    },
    {
      "cell_type": "code",
      "metadata": {
        "ExecuteTime": {
          "end_time": "2021-03-01T16:52:20.577500Z",
          "start_time": "2021-03-01T16:52:20.568911Z"
        },
        "id": "portuguese-farming",
        "outputId": "d7286f1b-c00d-4c9f-badf-1e7cf5f56cb8"
      },
      "source": [
        "(first_1am-second_1am).total_seconds()"
      ],
      "id": "portuguese-farming",
      "execution_count": null,
      "outputs": [
        {
          "output_type": "execute_result",
          "data": {
            "text/plain": [
              "0.0"
            ]
          },
          "metadata": {
            "tags": []
          },
          "execution_count": 57
        }
      ]
    },
    {
      "cell_type": "code",
      "metadata": {
        "ExecuteTime": {
          "end_time": "2021-03-01T16:54:46.270009Z",
          "start_time": "2021-03-01T16:54:46.262989Z"
        },
        "id": "stuck-wilderness",
        "outputId": "2b7cb964-2228-4a63-9b9a-1586faa85f60"
      },
      "source": [
        "# In order to account for daylight saving time, we must convert everything to UTC otherwise, the code does \n",
        "# not account for daylight saving time changes \n",
        "first_1am = first_1am.astimezone(tz.UTC)\n",
        "second_1am = second_1am.astimezone(tz.UTC)\n",
        "(second_1am - first_1am).total_seconds()"
      ],
      "id": "stuck-wilderness",
      "execution_count": null,
      "outputs": [
        {
          "output_type": "execute_result",
          "data": {
            "text/plain": [
              "3600.0"
            ]
          },
          "metadata": {
            "tags": []
          },
          "execution_count": 59
        }
      ]
    },
    {
      "cell_type": "markdown",
      "metadata": {
        "id": "architectural-export"
      },
      "source": [
        "# Dates and Times in Pandas"
      ],
      "id": "architectural-export"
    },
    {
      "cell_type": "markdown",
      "metadata": {
        "id": "surprising-silicon"
      },
      "source": [
        "## Reading date and time data in Pandas"
      ],
      "id": "surprising-silicon"
    },
    {
      "cell_type": "code",
      "metadata": {
        "ExecuteTime": {
          "end_time": "2021-03-01T16:59:27.793700Z",
          "start_time": "2021-03-01T16:59:27.777671Z"
        },
        "id": "material-findings",
        "outputId": "3e8722e6-7523-4b16-f4c4-fe98a563e47a"
      },
      "source": [
        "# A simple Pandas example\n",
        "# Load Pandas\n",
        "import pandas as pd\n",
        "# Import W20529's rides in Q4 2017\n",
        "rides = pd.read_csv('capital-onebike.csv')\n",
        "# See our data\n",
        "print(rides.head(3))"
      ],
      "id": "material-findings",
      "execution_count": null,
      "outputs": [
        {
          "output_type": "stream",
          "text": [
            "            Start date             End date  Start station number  \\\n",
            "0  2017-10-01 15:23:25  2017-10-01 15:26:26                 31038   \n",
            "1  2017-10-01 15:42:57  2017-10-01 17:49:59                 31036   \n",
            "2  2017-10-02 06:37:10  2017-10-02 06:42:53                 31036   \n",
            "\n",
            "                   Start station  End station number  \\\n",
            "0           Glebe Rd & 11th St N               31036   \n",
            "1  George Mason Dr & Wilson Blvd               31036   \n",
            "2  George Mason Dr & Wilson Blvd               31037   \n",
            "\n",
            "                            End station Bike number Member type  \n",
            "0         George Mason Dr & Wilson Blvd      W20529      Member  \n",
            "1         George Mason Dr & Wilson Blvd      W20529      Casual  \n",
            "2  Ballston Metro / N Stuart & 9th St N      W20529      Member  \n"
          ],
          "name": "stdout"
        }
      ]
    },
    {
      "cell_type": "code",
      "metadata": {
        "ExecuteTime": {
          "end_time": "2021-03-01T17:25:03.238244Z",
          "start_time": "2021-03-01T17:25:03.217701Z"
        },
        "id": "preliminary-reset",
        "outputId": "c206495d-e8f1-4abe-b61b-6b31f443ea19"
      },
      "source": [
        "rides.head(3)"
      ],
      "id": "preliminary-reset",
      "execution_count": null,
      "outputs": [
        {
          "output_type": "execute_result",
          "data": {
            "text/html": [
              "<div>\n",
              "<style scoped>\n",
              "    .dataframe tbody tr th:only-of-type {\n",
              "        vertical-align: middle;\n",
              "    }\n",
              "\n",
              "    .dataframe tbody tr th {\n",
              "        vertical-align: top;\n",
              "    }\n",
              "\n",
              "    .dataframe thead th {\n",
              "        text-align: right;\n",
              "    }\n",
              "</style>\n",
              "<table border=\"1\" class=\"dataframe\">\n",
              "  <thead>\n",
              "    <tr style=\"text-align: right;\">\n",
              "      <th></th>\n",
              "      <th>Start date</th>\n",
              "      <th>End date</th>\n",
              "      <th>Start station number</th>\n",
              "      <th>Start station</th>\n",
              "      <th>End station number</th>\n",
              "      <th>End station</th>\n",
              "      <th>Bike number</th>\n",
              "      <th>Member type</th>\n",
              "    </tr>\n",
              "  </thead>\n",
              "  <tbody>\n",
              "    <tr>\n",
              "      <th>0</th>\n",
              "      <td>2017-10-01 15:23:25</td>\n",
              "      <td>2017-10-01 15:26:26</td>\n",
              "      <td>31038</td>\n",
              "      <td>Glebe Rd &amp; 11th St N</td>\n",
              "      <td>31036</td>\n",
              "      <td>George Mason Dr &amp; Wilson Blvd</td>\n",
              "      <td>W20529</td>\n",
              "      <td>Member</td>\n",
              "    </tr>\n",
              "    <tr>\n",
              "      <th>1</th>\n",
              "      <td>2017-10-01 15:42:57</td>\n",
              "      <td>2017-10-01 17:49:59</td>\n",
              "      <td>31036</td>\n",
              "      <td>George Mason Dr &amp; Wilson Blvd</td>\n",
              "      <td>31036</td>\n",
              "      <td>George Mason Dr &amp; Wilson Blvd</td>\n",
              "      <td>W20529</td>\n",
              "      <td>Casual</td>\n",
              "    </tr>\n",
              "    <tr>\n",
              "      <th>2</th>\n",
              "      <td>2017-10-02 06:37:10</td>\n",
              "      <td>2017-10-02 06:42:53</td>\n",
              "      <td>31036</td>\n",
              "      <td>George Mason Dr &amp; Wilson Blvd</td>\n",
              "      <td>31037</td>\n",
              "      <td>Ballston Metro / N Stuart &amp; 9th St N</td>\n",
              "      <td>W20529</td>\n",
              "      <td>Member</td>\n",
              "    </tr>\n",
              "  </tbody>\n",
              "</table>\n",
              "</div>"
            ],
            "text/plain": [
              "            Start date             End date  Start station number  \\\n",
              "0  2017-10-01 15:23:25  2017-10-01 15:26:26                 31038   \n",
              "1  2017-10-01 15:42:57  2017-10-01 17:49:59                 31036   \n",
              "2  2017-10-02 06:37:10  2017-10-02 06:42:53                 31036   \n",
              "\n",
              "                   Start station  End station number  \\\n",
              "0           Glebe Rd & 11th St N               31036   \n",
              "1  George Mason Dr & Wilson Blvd               31036   \n",
              "2  George Mason Dr & Wilson Blvd               31037   \n",
              "\n",
              "                            End station Bike number Member type  \n",
              "0         George Mason Dr & Wilson Blvd      W20529      Member  \n",
              "1         George Mason Dr & Wilson Blvd      W20529      Casual  \n",
              "2  Ballston Metro / N Stuart & 9th St N      W20529      Member  "
            ]
          },
          "metadata": {
            "tags": []
          },
          "execution_count": 67
        }
      ]
    },
    {
      "cell_type": "code",
      "metadata": {
        "ExecuteTime": {
          "end_time": "2021-03-01T17:27:29.671956Z",
          "start_time": "2021-03-01T17:27:29.655180Z"
        },
        "id": "coastal-prize",
        "outputId": "538e6ecc-2f24-4a8a-950a-de8afd8ec2fc"
      },
      "source": [
        "rides.columns"
      ],
      "id": "coastal-prize",
      "execution_count": null,
      "outputs": [
        {
          "output_type": "execute_result",
          "data": {
            "text/plain": [
              "Index(['Start date', 'End date', 'Start station number', 'Start station',\n",
              "       'End station number', 'End station', 'Bike number', 'Member type'],\n",
              "      dtype='object')"
            ]
          },
          "metadata": {
            "tags": []
          },
          "execution_count": 72
        }
      ]
    },
    {
      "cell_type": "code",
      "metadata": {
        "ExecuteTime": {
          "end_time": "2021-03-01T17:00:10.844826Z",
          "start_time": "2021-03-01T17:00:10.828798Z"
        },
        "id": "quantitative-dispute",
        "outputId": "9fa31c32-c163-4716-9814-04efcf31a1a9"
      },
      "source": [
        "rides['Start date']"
      ],
      "id": "quantitative-dispute",
      "execution_count": null,
      "outputs": [
        {
          "output_type": "execute_result",
          "data": {
            "text/plain": [
              "Start date                               2017-10-02 06:37:10\n",
              "End date                                 2017-10-02 06:42:53\n",
              "Start station number                                   31036\n",
              "Start station                  George Mason Dr & Wilson Blvd\n",
              "End station number                                     31037\n",
              "End station             Ballston Metro / N Stuart & 9th St N\n",
              "Bike number                                           W20529\n",
              "Member type                                           Member\n",
              "Name: 2, dtype: object"
            ]
          },
          "metadata": {
            "tags": []
          },
          "execution_count": 63
        }
      ]
    },
    {
      "cell_type": "markdown",
      "metadata": {
        "id": "fantastic-plane"
      },
      "source": [
        "## Loading datetimes with parse_dates\n",
        "\n",
        "if we want pandas to recognize datetime objects "
      ],
      "id": "fantastic-plane"
    },
    {
      "cell_type": "code",
      "metadata": {
        "ExecuteTime": {
          "end_time": "2021-03-01T20:05:09.504869Z",
          "start_time": "2021-03-01T20:05:09.480697Z"
        },
        "id": "danish-timer"
      },
      "source": [
        "# Import W20529's rides in Q4 2017\n",
        "rides = pd.read_csv('capital-onebike.csv', parse_dates = ['Start date', 'End date'])\n",
        "# Or if pandas could not recognize the datetime object format we habe to specifiy it manually:\n",
        "rides['Start date'] = pd.to_datetime(rides['Start date'], format = \"%Y-%m-%d %H:%M:%S\")"
      ],
      "id": "danish-timer",
      "execution_count": null,
      "outputs": []
    },
    {
      "cell_type": "code",
      "metadata": {
        "ExecuteTime": {
          "end_time": "2021-03-01T20:05:10.816164Z",
          "start_time": "2021-03-01T20:05:10.804849Z"
        },
        "id": "electric-stroke",
        "outputId": "b2e51214-686b-4d39-8489-dd5c44031998"
      },
      "source": [
        "# Select Start date for row 2\n",
        "rides['Start date'].iloc[2]"
      ],
      "id": "electric-stroke",
      "execution_count": null,
      "outputs": [
        {
          "output_type": "execute_result",
          "data": {
            "text/plain": [
              "Timestamp('2017-10-02 06:37:10')"
            ]
          },
          "metadata": {
            "tags": []
          },
          "execution_count": 113
        }
      ]
    },
    {
      "cell_type": "code",
      "metadata": {
        "ExecuteTime": {
          "end_time": "2021-03-01T20:05:11.546000Z",
          "start_time": "2021-03-01T20:05:11.517952Z"
        },
        "id": "cleared-timer",
        "outputId": "35590b33-58ef-4cdb-991f-6435867886bc"
      },
      "source": [
        "# Create a duration column after we specify that start date and end date are datetime objects\n",
        "rides['Duration'] = rides['End date'] - rides['Start date']\n",
        "# Print the first 5 rows\n",
        "print(rides['Duration'].head(5))"
      ],
      "id": "cleared-timer",
      "execution_count": null,
      "outputs": [
        {
          "output_type": "stream",
          "text": [
            "0   0 days 00:03:01\n",
            "1   0 days 02:07:02\n",
            "2   0 days 00:05:43\n",
            "3   0 days 00:21:18\n",
            "4   0 days 00:21:17\n",
            "Name: Duration, dtype: timedelta64[ns]\n"
          ],
          "name": "stdout"
        }
      ]
    },
    {
      "cell_type": "code",
      "metadata": {
        "ExecuteTime": {
          "end_time": "2021-03-01T20:05:13.131980Z",
          "start_time": "2021-03-01T20:05:13.101956Z"
        },
        "id": "returning-sellers",
        "outputId": "6ca540a4-f776-4f45-d84c-d12831f1293c"
      },
      "source": [
        "# Loading datetimes with parse_dates\n",
        "# For readability we use \\\n",
        "rides['Duration']\\\n",
        ".dt.total_seconds()\\\n",
        ".head(5)"
      ],
      "id": "returning-sellers",
      "execution_count": null,
      "outputs": [
        {
          "output_type": "execute_result",
          "data": {
            "text/plain": [
              "0     181.0\n",
              "1    7622.0\n",
              "2     343.0\n",
              "3    1278.0\n",
              "4    1277.0\n",
              "Name: Duration, dtype: float64"
            ]
          },
          "metadata": {
            "tags": []
          },
          "execution_count": 115
        }
      ]
    },
    {
      "cell_type": "markdown",
      "metadata": {
        "id": "endangered-count"
      },
      "source": [
        "## Summarizing datetime data in Pandas"
      ],
      "id": "endangered-count"
    },
    {
      "cell_type": "code",
      "metadata": {
        "ExecuteTime": {
          "end_time": "2021-03-01T20:05:18.358328Z",
          "start_time": "2021-03-01T20:05:18.342434Z"
        },
        "id": "imposed-timer",
        "outputId": "3112f9b7-1153-429b-d9e0-14f6679225f1"
      },
      "source": [
        "# Average time out of the dock\n",
        "rides['Duration'].mean()"
      ],
      "id": "imposed-timer",
      "execution_count": null,
      "outputs": [
        {
          "output_type": "execute_result",
          "data": {
            "text/plain": [
              "Timedelta('0 days 00:19:38.931034482')"
            ]
          },
          "metadata": {
            "tags": []
          },
          "execution_count": 116
        }
      ]
    },
    {
      "cell_type": "markdown",
      "metadata": {
        "id": "contrary-blocking"
      },
      "source": [
        "Example: using pandas.data series to set a condition for sorting data.\n",
        "\n",
        "    How many joyrides?\n",
        "Suppose you have a theory that some people take long bike rides before putting their bike back in the same dock. Let's call these rides \"joyrides\".\n",
        "\n",
        "You only have data on one bike, so while you can't draw any bigger conclusions, it's certainly worth a look.\n",
        "\n",
        "Are there many joyrides? How long were they in our data set? Use the median instead of the mean, because we know there are some very long trips in our data set that might skew the answer, and the median is less sensitive to outliers.\n",
        "\n",
        "\n",
        "Create a Pandas Series which is True when Start station and End station are the same, and assign the result to joyrides.\n",
        "Calculate the median duration of all rides.\n",
        "Calculate the median duration of joyrides."
      ],
      "id": "contrary-blocking"
    },
    {
      "cell_type": "code",
      "metadata": {
        "id": "northern-symbol"
      },
      "source": [
        "# Create joyrides\n",
        "joyrides = (rides['Start station number'] == rides['End station number'])\n",
        "\n",
        "# Total number of joyrides\n",
        "print(\"{} rides were joyrides\".format(joyrides.sum()))\n",
        "\n",
        "# Median of all rides\n",
        "print(\"The median duration overall was {:.2f} seconds\"\\\n",
        "      .format(rides['Duration'].median()))\n",
        "\n",
        "# Median of joyrides\n",
        "print(\"The median duration for joyrides was {:.2f} seconds\"\\\n",
        "      .format(rides[joyrides]['Duration'].median()))"
      ],
      "id": "northern-symbol",
      "execution_count": null,
      "outputs": []
    },
    {
      "cell_type": "code",
      "metadata": {
        "ExecuteTime": {
          "end_time": "2021-03-01T20:05:19.064152Z",
          "start_time": "2021-03-01T20:05:19.040323Z"
        },
        "id": "personalized-implement",
        "outputId": "083f0826-8d35-4370-9140-06c401efedb7"
      },
      "source": [
        "# Total time out of the dock\n",
        "rides['Duration'].sum()"
      ],
      "id": "personalized-implement",
      "execution_count": null,
      "outputs": [
        {
          "output_type": "execute_result",
          "data": {
            "text/plain": [
              "Timedelta('3 days 22:58:10')"
            ]
          },
          "metadata": {
            "tags": []
          },
          "execution_count": 117
        }
      ]
    },
    {
      "cell_type": "code",
      "metadata": {
        "ExecuteTime": {
          "end_time": "2021-03-01T20:05:20.565473Z",
          "start_time": "2021-03-01T20:05:20.543412Z"
        },
        "id": "minimal-whole",
        "outputId": "818bb7b5-8ab5-45dc-e975-f2818422f595"
      },
      "source": [
        "# Percent of time out of the dock\n",
        "rides['Duration'].sum() / timedelta(days=91)\n",
        "0.04348417785917786"
      ],
      "id": "minimal-whole",
      "execution_count": null,
      "outputs": [
        {
          "output_type": "execute_result",
          "data": {
            "text/plain": [
              "0.04348417785917786"
            ]
          },
          "metadata": {
            "tags": []
          },
          "execution_count": 118
        }
      ]
    },
    {
      "cell_type": "code",
      "metadata": {
        "ExecuteTime": {
          "end_time": "2021-03-01T20:05:23.612079Z",
          "start_time": "2021-03-01T20:05:23.592060Z"
        },
        "id": "infectious-programmer",
        "outputId": "1350a1bc-eed8-4146-9396-d92b849e9277"
      },
      "source": [
        "# Count how many time the bike started at each station\n",
        "rides['Member type'].value_counts()"
      ],
      "id": "infectious-programmer",
      "execution_count": null,
      "outputs": [
        {
          "output_type": "execute_result",
          "data": {
            "text/plain": [
              "Member    236\n",
              "Casual     54\n",
              "Name: Member type, dtype: int64"
            ]
          },
          "metadata": {
            "tags": []
          },
          "execution_count": 119
        }
      ]
    },
    {
      "cell_type": "code",
      "metadata": {
        "ExecuteTime": {
          "end_time": "2021-03-01T20:05:24.325795Z",
          "start_time": "2021-03-01T20:05:24.310373Z"
        },
        "id": "numeric-letter",
        "outputId": "afd82cd2-f3c1-4e39-d7ed-ab53ee86247c"
      },
      "source": [
        "# Percent of rides by member\n",
        "rides['Member type'].value_counts() / len(rides)"
      ],
      "id": "numeric-letter",
      "execution_count": null,
      "outputs": [
        {
          "output_type": "execute_result",
          "data": {
            "text/plain": [
              "Member    0.813793\n",
              "Casual    0.186207\n",
              "Name: Member type, dtype: float64"
            ]
          },
          "metadata": {
            "tags": []
          },
          "execution_count": 120
        }
      ]
    },
    {
      "cell_type": "code",
      "metadata": {
        "ExecuteTime": {
          "end_time": "2021-03-01T20:05:25.151320Z",
          "start_time": "2021-03-01T20:05:25.133124Z"
        },
        "id": "neutral-theta",
        "outputId": "8d4767cd-1f8d-4cc6-c52f-2e0a9e75dd32"
      },
      "source": [
        "# Add duration (in seconds) column\n",
        "rides['Duration seconds'] = rides['Duration'].dt.total_seconds()\n",
        "# Average duration per member type\n",
        "rides.groupby('Member type')['Duration seconds'].mean()"
      ],
      "id": "neutral-theta",
      "execution_count": null,
      "outputs": [
        {
          "output_type": "execute_result",
          "data": {
            "text/plain": [
              "Member type\n",
              "Casual    1994.666667\n",
              "Member     992.279661\n",
              "Name: Duration seconds, dtype: float64"
            ]
          },
          "metadata": {
            "tags": []
          },
          "execution_count": 121
        }
      ]
    },
    {
      "cell_type": "code",
      "metadata": {
        "ExecuteTime": {
          "end_time": "2021-03-01T20:05:27.524297Z",
          "start_time": "2021-03-01T20:05:27.500966Z"
        },
        "id": "coral-greensboro",
        "outputId": "71ecac50-192d-413d-c37c-e8e299aad9cb"
      },
      "source": [
        "# Average duration by month using 'M'\n",
        "rides.resample('M', on = 'Start date')['Duration seconds'].mean()"
      ],
      "id": "coral-greensboro",
      "execution_count": null,
      "outputs": [
        {
          "output_type": "execute_result",
          "data": {
            "text/plain": [
              "Start date\n",
              "2017-10-31    1886.453704\n",
              "2017-11-30     854.174757\n",
              "2017-12-31     635.101266\n",
              "Freq: M, Name: Duration seconds, dtype: float64"
            ]
          },
          "metadata": {
            "tags": []
          },
          "execution_count": 122
        }
      ]
    },
    {
      "cell_type": "code",
      "metadata": {
        "ExecuteTime": {
          "end_time": "2021-03-01T20:05:32.243997Z",
          "start_time": "2021-03-01T20:05:32.220508Z"
        },
        "id": "moved-merchant",
        "outputId": "91a10eda-45ae-4b3e-9e69-2dd7ba8a7772"
      },
      "source": [
        "# Size per group\n",
        "rides.groupby('Member type').size()"
      ],
      "id": "moved-merchant",
      "execution_count": null,
      "outputs": [
        {
          "output_type": "execute_result",
          "data": {
            "text/plain": [
              "Member type\n",
              "Casual     54\n",
              "Member    236\n",
              "dtype: int64"
            ]
          },
          "metadata": {
            "tags": []
          },
          "execution_count": 123
        }
      ]
    },
    {
      "cell_type": "code",
      "metadata": {
        "ExecuteTime": {
          "end_time": "2021-03-01T20:05:35.381613Z",
          "start_time": "2021-03-01T20:05:35.340391Z"
        },
        "id": "exceptional-mailman",
        "outputId": "8d245f11-1adf-4f29-85b0-88c9d500068f"
      },
      "source": [
        "# First ride per group\n",
        "rides.groupby('Member type').first()"
      ],
      "id": "exceptional-mailman",
      "execution_count": null,
      "outputs": [
        {
          "output_type": "execute_result",
          "data": {
            "text/html": [
              "<div>\n",
              "<style scoped>\n",
              "    .dataframe tbody tr th:only-of-type {\n",
              "        vertical-align: middle;\n",
              "    }\n",
              "\n",
              "    .dataframe tbody tr th {\n",
              "        vertical-align: top;\n",
              "    }\n",
              "\n",
              "    .dataframe thead th {\n",
              "        text-align: right;\n",
              "    }\n",
              "</style>\n",
              "<table border=\"1\" class=\"dataframe\">\n",
              "  <thead>\n",
              "    <tr style=\"text-align: right;\">\n",
              "      <th></th>\n",
              "      <th>Start date</th>\n",
              "      <th>End date</th>\n",
              "      <th>Start station number</th>\n",
              "      <th>Start station</th>\n",
              "      <th>End station number</th>\n",
              "      <th>End station</th>\n",
              "      <th>Bike number</th>\n",
              "      <th>Duration</th>\n",
              "      <th>Duration seconds</th>\n",
              "    </tr>\n",
              "    <tr>\n",
              "      <th>Member type</th>\n",
              "      <th></th>\n",
              "      <th></th>\n",
              "      <th></th>\n",
              "      <th></th>\n",
              "      <th></th>\n",
              "      <th></th>\n",
              "      <th></th>\n",
              "      <th></th>\n",
              "      <th></th>\n",
              "    </tr>\n",
              "  </thead>\n",
              "  <tbody>\n",
              "    <tr>\n",
              "      <th>Casual</th>\n",
              "      <td>2017-10-01 15:42:57</td>\n",
              "      <td>2017-10-01 17:49:59</td>\n",
              "      <td>31036</td>\n",
              "      <td>George Mason Dr &amp; Wilson Blvd</td>\n",
              "      <td>31036</td>\n",
              "      <td>George Mason Dr &amp; Wilson Blvd</td>\n",
              "      <td>W20529</td>\n",
              "      <td>0 days 02:07:02</td>\n",
              "      <td>7622.0</td>\n",
              "    </tr>\n",
              "    <tr>\n",
              "      <th>Member</th>\n",
              "      <td>2017-10-01 15:23:25</td>\n",
              "      <td>2017-10-01 15:26:26</td>\n",
              "      <td>31038</td>\n",
              "      <td>Glebe Rd &amp; 11th St N</td>\n",
              "      <td>31036</td>\n",
              "      <td>George Mason Dr &amp; Wilson Blvd</td>\n",
              "      <td>W20529</td>\n",
              "      <td>0 days 00:03:01</td>\n",
              "      <td>181.0</td>\n",
              "    </tr>\n",
              "  </tbody>\n",
              "</table>\n",
              "</div>"
            ],
            "text/plain": [
              "                     Start date            End date  Start station number  \\\n",
              "Member type                                                                 \n",
              "Casual      2017-10-01 15:42:57 2017-10-01 17:49:59                 31036   \n",
              "Member      2017-10-01 15:23:25 2017-10-01 15:26:26                 31038   \n",
              "\n",
              "                             Start station  End station number  \\\n",
              "Member type                                                      \n",
              "Casual       George Mason Dr & Wilson Blvd               31036   \n",
              "Member                Glebe Rd & 11th St N               31036   \n",
              "\n",
              "                               End station Bike number        Duration  \\\n",
              "Member type                                                              \n",
              "Casual       George Mason Dr & Wilson Blvd      W20529 0 days 02:07:02   \n",
              "Member       George Mason Dr & Wilson Blvd      W20529 0 days 00:03:01   \n",
              "\n",
              "             Duration seconds  \n",
              "Member type                    \n",
              "Casual                 7622.0  \n",
              "Member                  181.0  "
            ]
          },
          "metadata": {
            "tags": []
          },
          "execution_count": 124
        }
      ]
    },
    {
      "cell_type": "code",
      "metadata": {
        "ExecuteTime": {
          "end_time": "2021-03-01T18:11:17.233466Z",
          "start_time": "2021-03-01T18:11:16.993314Z"
        },
        "id": "described-interstate",
        "outputId": "442749a2-6cf9-4f9f-e36f-3a7de253ebb9"
      },
      "source": [
        "rides\\\n",
        ".resample('M', on = 'Start date')\\\n",
        "['Duration seconds']\\\n",
        ".mean()\\\n",
        ".plot()"
      ],
      "id": "described-interstate",
      "execution_count": null,
      "outputs": [
        {
          "output_type": "execute_result",
          "data": {
            "text/plain": [
              "<AxesSubplot:xlabel='Start date'>"
            ]
          },
          "metadata": {
            "tags": []
          },
          "execution_count": 94
        },
        {
          "output_type": "display_data",
          "data": {
            "image/png": "[encoded data removed]",
            "text/plain": [
              "<Figure size 432x288 with 1 Axes>"
            ]
          },
          "metadata": {
            "tags": [],
            "needs_background": "light"
          }
        }
      ]
    },
    {
      "cell_type": "code",
      "metadata": {
        "ExecuteTime": {
          "end_time": "2021-03-01T18:11:28.000903Z",
          "start_time": "2021-03-01T18:11:27.510090Z"
        },
        "id": "little-advocate",
        "outputId": "f8e4237a-535f-401c-cf4b-9fe5da0dfb05"
      },
      "source": [
        "# Average duration by day using 'D'\n",
        "rides\\\n",
        ".resample('D', on = 'Start date')\\\n",
        "['Duration seconds']\\\n",
        ".mean()\\\n",
        ".plot()"
      ],
      "id": "little-advocate",
      "execution_count": null,
      "outputs": [
        {
          "output_type": "execute_result",
          "data": {
            "text/plain": [
              "<AxesSubplot:xlabel='Start date'>"
            ]
          },
          "metadata": {
            "tags": []
          },
          "execution_count": 95
        },
        {
          "output_type": "display_data",
          "data": {
            "image/png": "[encoded data removed]",
            "text/plain": [
              "<Figure size 432x288 with 1 Axes>"
            ]
          },
          "metadata": {
            "tags": [],
            "needs_background": "light"
          }
        }
      ]
    },
    {
      "cell_type": "markdown",
      "metadata": {
        "id": "refined-friday"
      },
      "source": [
        "## Timezones in Pandas"
      ],
      "id": "refined-friday"
    },
    {
      "cell_type": "markdown",
      "metadata": {
        "id": "engaged-wrist"
      },
      "source": [
        "## Note:\n",
        "\n",
        "all the pandas datetime-related attributs are within the .dt accessor. This means that every attributes must have .dt."
      ],
      "id": "engaged-wrist"
    },
    {
      "cell_type": "code",
      "metadata": {
        "ExecuteTime": {
          "end_time": "2021-03-01T20:05:47.614263Z",
          "start_time": "2021-03-01T20:05:47.605945Z"
        },
        "id": "effective-second",
        "outputId": "205e5769-c8f5-469b-93be-3d6e5ec173cb"
      },
      "source": [
        "# datetime objects are navive and we have to fix it \n",
        "rides['Duration'].dt.total_seconds().min()"
      ],
      "id": "effective-second",
      "execution_count": null,
      "outputs": [
        {
          "output_type": "execute_result",
          "data": {
            "text/plain": [
              "-3346.0"
            ]
          },
          "metadata": {
            "tags": []
          },
          "execution_count": 125
        }
      ]
    },
    {
      "cell_type": "code",
      "metadata": {
        "ExecuteTime": {
          "end_time": "2021-03-01T20:01:59.961226Z",
          "start_time": "2021-03-01T20:01:59.937082Z"
        },
        "id": "natural-racing",
        "outputId": "307d1218-5abf-4bd6-818d-9771537113e6"
      },
      "source": [
        "# making the datetime object aware by .tz_localize which add a UTC offset\n",
        "rides['Start date'].head(3)\\\n",
        ".dt.tz_localize('America/New_York')"
      ],
      "id": "natural-racing",
      "execution_count": null,
      "outputs": [
        {
          "output_type": "execute_result",
          "data": {
            "text/plain": [
              "0   2017-10-01 15:23:25-04:00\n",
              "1   2017-10-01 15:42:57-04:00\n",
              "2   2017-10-02 06:37:10-04:00\n",
              "Name: Start date, dtype: datetime64[ns, America/New_York]"
            ]
          },
          "metadata": {
            "tags": []
          },
          "execution_count": 108
        }
      ]
    },
    {
      "cell_type": "markdown",
      "metadata": {
        "id": "aboriginal-plasma"
      },
      "source": [
        "Try to set a timezone...\n",
        "\n",
        "rides['Start date'] = rides['Start date']\\\n",
        ".dt.tz_localize('America/New_York')\n",
        "\n",
        "This will create an AmbiguousTimeError we have to fix it by  ambiguous='NaT'"
      ],
      "id": "aboriginal-plasma"
    },
    {
      "cell_type": "code",
      "metadata": {
        "ExecuteTime": {
          "end_time": "2021-03-01T20:06:11.636101Z",
          "start_time": "2021-03-01T20:06:11.628310Z"
        },
        "id": "remarkable-norway"
      },
      "source": [
        "# Handle ambiguous datetimes\n",
        "rides['Start date'] = rides['Start date']\\\n",
        ".dt.tz_localize('America/New_York', ambiguous='NaT')\n",
        "rides['End date'] = rides['End date']\\\n",
        ".dt.tz_localize('America/New_York', ambiguous='NaT')"
      ],
      "id": "remarkable-norway",
      "execution_count": null,
      "outputs": []
    },
    {
      "cell_type": "code",
      "metadata": {
        "ExecuteTime": {
          "end_time": "2021-03-01T20:06:45.028346Z",
          "start_time": "2021-03-01T20:06:45.017064Z"
        },
        "id": "hired-remark",
        "outputId": "0874e145-b44a-44b3-f56b-54bd3155d4e7"
      },
      "source": [
        "# Re-calculate duration, ignoring bad row\n",
        "rides['Duration'] = rides['End date']-rides['Start date']\n",
        "# Find the minimum again\n",
        "rides['Duration'].dt.total_seconds().min()"
      ],
      "id": "hired-remark",
      "execution_count": null,
      "outputs": [
        {
          "output_type": "execute_result",
          "data": {
            "text/plain": [
              "116.00000000000001"
            ]
          },
          "metadata": {
            "tags": []
          },
          "execution_count": 128
        }
      ]
    },
    {
      "cell_type": "code",
      "metadata": {
        "id": "measured-calendar"
      },
      "source": [
        "# convert a time zone for pandas dataframe by dt.tz_convert()\n",
        "\n",
        "# Localize the Start date column to America/New_York\n",
        "rides['Start date'] = rides['Start date'].dt.tz_localize('America/New_York',  ambiguous='NaT')\n",
        "\n",
        "# Print first value\n",
        "print(rides['Start date'].iloc[0])\n",
        "\n",
        "# Convert the Start date column to Europe/London\n",
        "rides['Start date'] = rides['Start date'].dt.tz_convert('Europe/London')\n",
        "\n",
        "# Print the new value\n",
        "print(rides['Start date'].iloc[0])"
      ],
      "id": "measured-calendar",
      "execution_count": null,
      "outputs": []
    },
    {
      "cell_type": "code",
      "metadata": {
        "ExecuteTime": {
          "end_time": "2021-03-01T20:08:13.663729Z",
          "start_time": "2021-03-01T20:08:13.644297Z"
        },
        "id": "regional-mechanism",
        "outputId": "7b2ccf1a-7a23-4667-c651-05d0250c5bb5"
      },
      "source": [
        "# Look at problematic row\n",
        "# both start and end is set to NaT, so our Durations is also NaT \n",
        "rides.iloc[129]"
      ],
      "id": "regional-mechanism",
      "execution_count": null,
      "outputs": [
        {
          "output_type": "execute_result",
          "data": {
            "text/plain": [
              "Start date                        NaT\n",
              "End date                          NaT\n",
              "Start station number            31615\n",
              "Start station           6th & H St NE\n",
              "End station number              31627\n",
              "End station             3rd & M St NE\n",
              "Bike number                    W20529\n",
              "Member type                    Member\n",
              "Duration                          NaT\n",
              "Duration seconds              -3346.0\n",
              "Name: 129, dtype: object"
            ]
          },
          "metadata": {
            "tags": []
          },
          "execution_count": 129
        }
      ]
    },
    {
      "cell_type": "code",
      "metadata": {
        "ExecuteTime": {
          "end_time": "2021-03-01T20:09:22.006217Z",
          "start_time": "2021-03-01T20:09:21.981541Z"
        },
        "id": "liberal-depression",
        "outputId": "46c598f8-aff0-4307-c8a5-50975b073584"
      },
      "source": [
        "# Year of first three rows\n",
        "rides['Start date']\\\n",
        ".head(3)\\\n",
        ".dt.year"
      ],
      "id": "liberal-depression",
      "execution_count": null,
      "outputs": [
        {
          "output_type": "execute_result",
          "data": {
            "text/plain": [
              "0    2017\n",
              "1    2017\n",
              "2    2017\n",
              "Name: Start date, dtype: int64"
            ]
          },
          "metadata": {
            "tags": []
          },
          "execution_count": 130
        }
      ]
    },
    {
      "cell_type": "code",
      "metadata": {
        "ExecuteTime": {
          "end_time": "2021-03-01T20:12:55.432925Z",
          "start_time": "2021-03-01T20:12:55.368981Z"
        },
        "id": "conscious-stand",
        "outputId": "b9be6e26-959d-4810-8066-7cd1ffebf02d"
      },
      "source": [
        "# See weekdays for first three rides\n",
        "rides['Start date']\\\n",
        ".head(3)\\\n",
        ".dt.day_name()"
      ],
      "id": "conscious-stand",
      "execution_count": null,
      "outputs": [
        {
          "output_type": "execute_result",
          "data": {
            "text/plain": [
              "0    Sunday\n",
              "1    Sunday\n",
              "2    Monday\n",
              "Name: Start date, dtype: object"
            ]
          },
          "metadata": {
            "tags": []
          },
          "execution_count": 133
        }
      ]
    },
    {
      "cell_type": "code",
      "metadata": {
        "id": "registered-terrorism"
      },
      "source": [
        "# Shift the indexes forward one, padding with NaT\n",
        "# This will make row zero become NaT as well\n",
        "rides['End date'].shift(1).head(3)"
      ],
      "id": "registered-terrorism",
      "execution_count": null,
      "outputs": []
    },
    {
      "cell_type": "markdown",
      "metadata": {
        "id": "handy-princess"
      },
      "source": [
        "Example:\n",
        "\n",
        "How long between rides?\n",
        "For your final exercise, let's take advantage of Pandas indexing to do something interesting. \n",
        "How much time elapsed between rides?\n",
        "\n",
        "\n",
        "Calculate the difference in the Start date of the current row and the End date of the previous row and assign it to rides['Time since'].\n",
        "Convert rides['Time since'] to seconds to make it easier to work with.\n",
        "Resample rides to be in monthly buckets according to the Start date.\n",
        "Divide the average by (60*60) to get the number of hours on average that W20529 waited in the dock before being picked up again."
      ],
      "id": "handy-princess"
    },
    {
      "cell_type": "code",
      "metadata": {
        "id": "breathing-america"
      },
      "source": [
        "# Shift the index of the end date up one; now subract it from the start date\n",
        "rides['Time since'] = rides['Start date'] - (rides['End date'].shift(1))\n",
        "\n",
        "# Move from a timedelta to a number of seconds, which is easier to work with\n",
        "rides['Time since'] = rides['Time since'].dt.total_seconds()\n",
        "\n",
        "# Resample to the month\n",
        "monthly = rides.resample('M', on='Start date')\n",
        "\n",
        "# Print the average hours between rides each month\n",
        "print(monthly['Time since'].mean()/(60*60))\n",
        "\n",
        "\n",
        "\n",
        "Start date\n",
        "2017-10-31    5.519242\n",
        "2017-11-30    7.256443\n",
        "2017-12-31    9.202380\n",
        "Freq: M, Name: Time since, dtype: float64"
      ],
      "id": "breathing-america",
      "execution_count": null,
      "outputs": []
    }
  ]
}